{
  "nbformat": 4,
  "nbformat_minor": 0,
  "metadata": {
    "colab": {
      "name": "Perceptroon.ipynb",
      "provenance": [],
      "authorship_tag": "ABX9TyO1R0ax4ZJLowWS0eOvjLbp",
      "include_colab_link": true
    },
    "kernelspec": {
      "name": "python3",
      "display_name": "Python 3"
    },
    "language_info": {
      "name": "python"
    }
  },
  "cells": [
    {
      "cell_type": "markdown",
      "metadata": {
        "id": "view-in-github",
        "colab_type": "text"
      },
      "source": [
        "<a href=\"https://colab.research.google.com/github/Lotfullah21/Algorithms_AI/blob/main/Perceptroon.ipynb\" target=\"_parent\"><img src=\"https://colab.research.google.com/assets/colab-badge.svg\" alt=\"Open In Colab\"/></a>"
      ]
    },
    {
      "cell_type": "code",
      "source": [
        "import numpy as np"
      ],
      "metadata": {
        "id": "GV4R2Gwnnufx"
      },
      "execution_count": 32,
      "outputs": []
    },
    {
      "cell_type": "code",
      "source": [
        "def perceptron_update(features_matrix,labels,theta, theta_0):\n",
        "\n",
        "  if labels*(np.dot(theta, features_matrix) + theta_0 ) <=0:\n",
        "    theta = theta + labels*features_matrix\n",
        "    theta_0 = theta_0 + label\n",
        "  return theta, theta_0  \n",
        "\n",
        "theta = np.array([0,0])\n",
        "# theta = theta.reshape(-1,1)\n",
        "theta_0 = 0\n",
        "feature = np.array([0.5- (np.sqrt(3)/2),0.5 + (np.sqrt(3)/2)])\n",
        "label = 1\n",
        "\n",
        "perceptron_update(feature,label,theta, theta_0)"
      ],
      "metadata": {
        "colab": {
          "base_uri": "https://localhost:8080/"
        },
        "id": "MfQkLc2urFI1",
        "outputId": "15bbeab1-1ac4-4ccd-b7e5-670a80b971d8"
      },
      "execution_count": 164,
      "outputs": [
        {
          "output_type": "execute_result",
          "data": {
            "text/plain": [
              "(array([-0.3660254,  1.3660254]), 1)"
            ]
          },
          "metadata": {},
          "execution_count": 164
        }
      ]
    },
    {
      "cell_type": "code",
      "source": [],
      "metadata": {
        "id": "lPAC160kL06V"
      },
      "execution_count": 163,
      "outputs": []
    },
    {
      "cell_type": "code",
      "source": [
        "def Perceptron(feature_matrix, labels, T):\n",
        "\n",
        "    (nsamples, nfeatures) = feature_matrix.shape\n",
        "    theta = np.zeros(nfeatures)\n",
        "    order = feature_matrix.shape[0]\n",
        "    theta_0 = 0.0\n",
        "    for t in range(T):\n",
        "        for i in range(order):\n",
        "            theta, theta_0 = perceptron_update(\n",
        "                feature_matrix[i], labels[i], theta, theta_0)\n",
        "    return (theta, theta_0)"
      ],
      "metadata": {
        "id": "Th1lcc0oteEN"
      },
      "execution_count": 169,
      "outputs": []
    },
    {
      "cell_type": "code",
      "source": [
        "theta = np.array([[0,0]])\n",
        "# theta = theta.reshape(-1,1)\n",
        "theta_0 = 0\n",
        "feature_matrix = np.array([[0.5- (np.sqrt(3)/2), 0.5 + (np.sqrt(3)/2)]])\n",
        "labels = np.array([[1]])\n",
        "T = feature_matrix.shape[0]\n",
        "labels.shape[0]"
      ],
      "metadata": {
        "colab": {
          "base_uri": "https://localhost:8080/"
        },
        "id": "ro0AiIJNuYPF",
        "outputId": "93a640df-2de9-41ab-833a-e35a6dc18f68"
      },
      "execution_count": 166,
      "outputs": [
        {
          "output_type": "execute_result",
          "data": {
            "text/plain": [
              "1"
            ]
          },
          "metadata": {},
          "execution_count": 166
        }
      ]
    },
    {
      "cell_type": "code",
      "source": [
        "Perceptron(feature_matrix, labels, T)"
      ],
      "metadata": {
        "colab": {
          "base_uri": "https://localhost:8080/"
        },
        "id": "yW1JGc22vUtY",
        "outputId": "2e120297-f201-42d4-e328-b5b9edeafc68"
      },
      "execution_count": 167,
      "outputs": [
        {
          "output_type": "execute_result",
          "data": {
            "text/plain": [
              "(array([-0.3660254,  1.3660254]), 1.0)"
            ]
          },
          "metadata": {},
          "execution_count": 167
        }
      ]
    },
    {
      "cell_type": "code",
      "source": [
        "theta = np.array([5,5])\n",
        "x = feature_matrix\n",
        "x.shape\n",
        "new_x = x.reshape(2,8)\n",
        "\n",
        "new_x.shape\n",
        "print(\"new_X\",new_x.shape)\n",
        "print (\"x\",x.shape)\n",
        "denominator = np.dot(x,new_x)\n",
        "denominator\n",
        "total = denominator.sum()\n",
        "print(total)"
      ],
      "metadata": {
        "colab": {
          "base_uri": "https://localhost:8080/"
        },
        "id": "WbxYYP8ovgY8",
        "outputId": "6702ed87-c3cf-435a-bc64-010cd5a5cd11"
      },
      "execution_count": 112,
      "outputs": [
        {
          "output_type": "stream",
          "name": "stdout",
          "text": [
            "new_X (2, 8)\n",
            "x (8, 2)\n",
            "40.5\n"
          ]
        }
      ]
    },
    {
      "cell_type": "code",
      "source": [
        "def perceptron_update(features_matrix,labels,theta):\n",
        "\n",
        "  if labels*(np.dot(theta, features_matrix) + theta_0 ) <=0:\n",
        "    theta = theta + labels*features_matrix\n",
        "    # theta_0 = theta_0 + label\n",
        "  return theta\n",
        "\n",
        "theta = np.array([1,-1])\n",
        "# theta = theta.reshape(-1,1)\n",
        "theta_0 = 1\n",
        "feature = np.array([1,3])\n",
        "label = 1\n",
        "\n",
        "perceptron_update(feature,label,theta)"
      ],
      "metadata": {
        "colab": {
          "base_uri": "https://localhost:8080/"
        },
        "id": "KFQbAnHozc3-",
        "outputId": "b317fe57-39a1-41a2-adc8-0716a6eaef2a"
      },
      "execution_count": 100,
      "outputs": [
        {
          "output_type": "execute_result",
          "data": {
            "text/plain": [
              "array([2, 2])"
            ]
          },
          "metadata": {},
          "execution_count": 100
        }
      ]
    },
    {
      "cell_type": "markdown",
      "source": [
        "## Without offset"
      ],
      "metadata": {
        "id": "T_nOfQC_Nrre"
      }
    },
    {
      "cell_type": "code",
      "source": [
        "def perceptron(feature_matrix, labels, T):\n",
        "    \"\"\"\n",
        "    Runs the full perceptron algorithm on a given set of data. Runs T\n",
        "    iterations through the data set, there is no need to worry about\n",
        "    stopping early.\n",
        "\n",
        "    NOTE: Please use the previously implemented functions when applicable.\n",
        "    Do not copy paste code from previous parts.\n",
        "\n",
        "    Args:\n",
        "        feature_matrix -  A numpy matrix describing the given data. Each row\n",
        "            represents a single data point.\n",
        "        labels - A numpy array where the kth element of the array is the\n",
        "            correct classification of the kth row of the feature matrix.\n",
        "        T - An integer indicating how many times the perceptron algorithm\n",
        "            should iterate through the feature matrix.\n",
        "\n",
        "    Returns: A tuple where the first element is a numpy array with the value of\n",
        "    theta, the linear classification parameter, after T iterations through the\n",
        "    feature matrix and the second element is a real number with the value of\n",
        "    theta_0, the offset classification parameter, after T iterations through\n",
        "    the feature matrix.\n",
        "    \"\"\"\n",
        "    (nsamples, nfeatures) = feature_matrix.shape\n",
        "    theta = np.zeros(nfeatures)\n",
        "    order = feature_matrix.shape[0]\n",
        "    # theta_0 = 0.0\n",
        "    for t in range(T):\n",
        "        for i in range(order):\n",
        "            theta = perceptron_update( feature_matrix[i], labels[i], theta)\n",
        "    return (theta)"
      ],
      "metadata": {
        "id": "b4UceoRE2KAp"
      },
      "execution_count": 101,
      "outputs": []
    },
    {
      "cell_type": "code",
      "source": [
        "feature_matrix = np.array([[1,1],[2,3],[3,4],[-0.5,-0.5],[-1,-2],[-2,-3],[-3,-4],[-4,-3]])\n",
        "labels = np.array([[1],[1],[1],[-1],[-1],[-1],[-1],[-1]])\n",
        "T = feature_matrix.shape[0]\n",
        "labels.shape[0]"
      ],
      "metadata": {
        "id": "U5Q4e7Mp2V-t"
      },
      "execution_count": null,
      "outputs": []
    },
    {
      "cell_type": "code",
      "source": [
        "perceptron(feature_matrix, labels, T)"
      ],
      "metadata": {
        "colab": {
          "base_uri": "https://localhost:8080/"
        },
        "id": "olSC7K6B2fip",
        "outputId": "71d58980-aab4-45a2-c532-af7decb68948"
      },
      "execution_count": 170,
      "outputs": [
        {
          "output_type": "execute_result",
          "data": {
            "text/plain": [
              "(array([-0.3660254,  1.3660254]), 1.0)"
            ]
          },
          "metadata": {},
          "execution_count": 170
        }
      ]
    },
    {
      "cell_type": "code",
      "source": [
        "theta = np.array([1.5,1.5])\n",
        "x = feature_matrix\n",
        "x.shape\n",
        "new_x = x.reshape(2,8)\n",
        "\n",
        "new_x.shape\n",
        "print(\"new_X\",new_x.shape)\n",
        "print (\"x\",x.shape)\n",
        "denominator = np.dot(x,new_x)\n",
        "total = denominator.sum()\n",
        "print(total)"
      ],
      "metadata": {
        "colab": {
          "base_uri": "https://localhost:8080/"
        },
        "id": "sfAZylJE2f1Z",
        "outputId": "3c169f5f-9b6d-4fea-bacc-457e6fb071ed"
      },
      "execution_count": 116,
      "outputs": [
        {
          "output_type": "stream",
          "name": "stdout",
          "text": [
            "new_X (2, 8)\n",
            "x (8, 2)\n",
            "40.5\n"
          ]
        }
      ]
    },
    {
      "cell_type": "code",
      "source": [
        "print(\"theta\", theta.shape)\n",
        "print(\"new_X\",new_x.shape)\n",
        "print (\"x\",x.shape)\n",
        "theta = np.array([[1.5,1.5]])\n",
        "x = feature_matrix\n",
        "numerator = new_theta * new_x\n",
        "\n",
        "# numerator.sum()\n",
        "suma = numerator.sum()\n",
        "print(suma)\n",
        "print(numerator)"
      ],
      "metadata": {
        "colab": {
          "base_uri": "https://localhost:8080/"
        },
        "id": "7PJxtAfY2n2o",
        "outputId": "cea4cdcb-8a5a-4ed1-9c93-2c9207d00bfb"
      },
      "execution_count": 141,
      "outputs": [
        {
          "output_type": "stream",
          "name": "stdout",
          "text": [
            "theta (1, 2)\n",
            "new_X (2, 8)\n",
            "x (8, 2)\n",
            "-13.5\n",
            "[[ 1.5   1.5   3.    4.5   4.5   6.   -0.75 -0.75]\n",
            " [-1.5  -3.   -3.   -4.5  -4.5  -6.   -6.   -4.5 ]]\n"
          ]
        }
      ]
    },
    {
      "cell_type": "code",
      "source": [
        "numerator = np.dot(theta , new_x)\n",
        "# numerator.sum()\n",
        "numerator"
      ],
      "metadata": {
        "colab": {
          "base_uri": "https://localhost:8080/"
        },
        "id": "0ibc93yX2o1T",
        "outputId": "f8c5b381-3fe2-4648-a566-84abf597d4b1"
      },
      "execution_count": 132,
      "outputs": [
        {
          "output_type": "execute_result",
          "data": {
            "text/plain": [
              "array([[ 0.  , -1.5 ,  0.  ,  0.  ,  0.  ,  0.  , -6.75, -5.25]])"
            ]
          },
          "metadata": {},
          "execution_count": 132
        }
      ]
    },
    {
      "cell_type": "code",
      "source": [
        "numerator.sum()"
      ],
      "metadata": {
        "colab": {
          "base_uri": "https://localhost:8080/"
        },
        "id": "fNCq1Jla6Bf9",
        "outputId": "ae26bbd9-bba3-4840-de20-93933f8a9af3"
      },
      "execution_count": 133,
      "outputs": [
        {
          "output_type": "execute_result",
          "data": {
            "text/plain": [
              "-13.5"
            ]
          },
          "metadata": {},
          "execution_count": 133
        }
      ]
    },
    {
      "cell_type": "code",
      "source": [],
      "metadata": {
        "id": "tJqoppuU6Gmx"
      },
      "execution_count": 171,
      "outputs": []
    },
    {
      "cell_type": "code",
      "source": [
        "|x = np.array([[0.5, -np.sqrt(3)/2], [np.sqrt(3)/2, 0.5]])\n",
        "y = np.array([[2],[3]])\n",
        "print(x.shape)\n",
        "print(y.shape)\n",
        "z = np.matmul(x,y)\n",
        "z"
      ],
      "metadata": {
        "colab": {
          "base_uri": "https://localhost:8080/"
        },
        "id": "g3FxU9Rc6V5x",
        "outputId": "bab2c398-13df-4a04-9968-58a20dd63245"
      },
      "execution_count": 150,
      "outputs": [
        {
          "output_type": "stream",
          "name": "stdout",
          "text": [
            "(2, 2)\n",
            "(2, 1)\n"
          ]
        },
        {
          "output_type": "execute_result",
          "data": {
            "text/plain": [
              "array([[-1.59807621],\n",
              "       [ 3.23205081]])"
            ]
          },
          "metadata": {},
          "execution_count": 150
        }
      ]
    }
  ]
}