{
  "nbformat": 4,
  "nbformat_minor": 0,
  "metadata": {
    "colab": {
      "provenance": [],
      "authorship_tag": "ABX9TyNgENPydXHOJVnTZGKST2hT",
      "include_colab_link": true
    },
    "kernelspec": {
      "name": "python3",
      "display_name": "Python 3"
    },
    "language_info": {
      "name": "python"
    }
  },
  "cells": [
    {
      "cell_type": "markdown",
      "metadata": {
        "id": "view-in-github",
        "colab_type": "text"
      },
      "source": [
        "<a href=\"https://colab.research.google.com/github/Lotfullah21/Algorithms_AI/blob/main/Gradient_Descent.ipynb\" target=\"_parent\"><img src=\"https://colab.research.google.com/assets/colab-badge.svg\" alt=\"Open In Colab\"/></a>"
      ]
    },
    {
      "cell_type": "code",
      "source": [
        "import numpy as np\n",
        "import matplotlib.pyplot as plt"
      ],
      "metadata": {
        "id": "GulGPyq-dta3"
      },
      "execution_count": 156,
      "outputs": []
    },
    {
      "cell_type": "code",
      "source": [
        "def Gradient(v):\n",
        "  # y = v**2, gradient = 2*v\n",
        "  return 2*v"
      ],
      "metadata": {
        "id": "WV83d3fbdyz2"
      },
      "execution_count": 16,
      "outputs": []
    },
    {
      "cell_type": "code",
      "source": [
        "def Gradient_descent(w_init, alpha, num_iters):\n",
        "  w = w_init\n",
        "  for _ in range(num_iters):\n",
        "    w = w - alpha*Gradient(w)\n",
        "    print(\"W\",w,\"Gradient\",Gradient(w))\n",
        "  return w"
      ],
      "metadata": {
        "id": "JH9NPeizdzXM"
      },
      "execution_count": 17,
      "outputs": []
    },
    {
      "cell_type": "code",
      "source": [
        "Gradient_descent(0.4,0.3,10)"
      ],
      "metadata": {
        "colab": {
          "base_uri": "https://localhost:8080/"
        },
        "id": "hOjzz70cdzZR",
        "outputId": "c48b1a67-48fd-465e-f19a-be93df666b8a"
      },
      "execution_count": 18,
      "outputs": [
        {
          "output_type": "stream",
          "name": "stdout",
          "text": [
            "W 0.16000000000000003 Gradient 0.32000000000000006\n",
            "W 0.06400000000000002 Gradient 0.12800000000000003\n",
            "W 0.025600000000000005 Gradient 0.05120000000000001\n",
            "W 0.010240000000000003 Gradient 0.020480000000000005\n",
            "W 0.0040960000000000015 Gradient 0.008192000000000003\n",
            "W 0.0016384000000000008 Gradient 0.0032768000000000016\n",
            "W 0.0006553600000000004 Gradient 0.001310720000000001\n",
            "W 0.0002621440000000002 Gradient 0.0005242880000000004\n",
            "W 0.00010485760000000007 Gradient 0.00020971520000000014\n",
            "W 4.194304000000003e-05 Gradient 8.388608000000006e-05\n"
          ]
        },
        {
          "output_type": "execute_result",
          "data": {
            "text/plain": [
              "4.194304000000003e-05"
            ]
          },
          "metadata": {},
          "execution_count": 18
        }
      ]
    },
    {
      "cell_type": "code",
      "source": [
        "import matplotlib.pyplot as plt"
      ],
      "metadata": {
        "id": "UG1Bfi7jpVYJ"
      },
      "execution_count": 55,
      "outputs": []
    },
    {
      "cell_type": "code",
      "source": [
        "# y = x[1]**2 + 3*x[2]**2\n",
        "def Gradient(x):\n",
        "  y = x**2 + x**2\n",
        "  Gradient = 2*x + 6*x\n",
        "  return Gradient"
      ],
      "metadata": {
        "id": "aGptCrlfjpDJ"
      },
      "execution_count": 80,
      "outputs": []
    },
    {
      "cell_type": "code",
      "source": [
        "def Gradient_descent(w_init,alpha,num_iters):\n",
        "  w_history = []\n",
        "  y_history = []\n",
        "  w = w_init\n",
        "  for _ in range(num_iters):\n",
        "    w = w - alpha * Gradient(w)\n",
        "    # y = w**2 + 6*(w**2)  -2 \n",
        "    y = np.square(w)+6*np.square(w)  -2\n",
        "    w_history.append(w)\n",
        "    y_history.append(y)\n",
        "    print(\"Gradient\",f\"{Gradient(w):0.5e}\",\"W\",f\"{w:0.5e}\")\n",
        "  print(f\"w_history{w_history} \\n y_history {y_history}\")\n",
        "  plt.plot(w_history,y_history)\n",
        "  plt.xlabel(\"Weights\")\n",
        "  plt.ylabel(\"Function\")\n",
        "  plt.show()"
      ],
      "metadata": {
        "id": "WCqYv2Tokg3A"
      },
      "execution_count": 149,
      "outputs": []
    },
    {
      "cell_type": "code",
      "source": [
        "Gradient_descent(0.8,0.089,10)"
      ],
      "metadata": {
        "colab": {
          "base_uri": "https://localhost:8080/",
          "height": 507
        },
        "id": "DJPe2A6rdzbO",
        "outputId": "176f729c-8763-4624-e36b-7b3f68e63b63"
      },
      "execution_count": 154,
      "outputs": [
        {
          "output_type": "stream",
          "name": "stdout",
          "text": [
            "Gradient 1.84320e+00 W 2.30400e-01\n",
            "Gradient 5.30842e-01 W 6.63552e-02\n",
            "Gradient 1.52882e-01 W 1.91103e-02\n",
            "Gradient 4.40301e-02 W 5.50377e-03\n",
            "Gradient 1.26807e-02 W 1.58508e-03\n",
            "Gradient 3.65203e-03 W 4.56504e-04\n",
            "Gradient 1.05179e-03 W 1.31473e-04\n",
            "Gradient 3.02914e-04 W 3.78643e-05\n",
            "Gradient 8.72393e-05 W 1.09049e-05\n",
            "Gradient 2.51249e-05 W 3.14062e-06\n",
            "w_history[0.23040000000000005, 0.06635520000000003, 0.019110297600000013, 0.005503765708800004, 0.0015850845241344013, 0.0004565043429507077, 0.00013147325076980385, 3.786429622170351e-05, 1.0904917311850614e-05, 3.1406161858129778e-06] \n",
            " y_history [-1.6284108799999997, -1.96917891203072, -1.997443575679476, -1.9997879599411585, -1.9999824125493595, -1.999998541226494, -1.9999998790034903, -1.9999999899640655, -1.9999999991675794, -1.9999999999309557]\n"
          ]
        },
        {
          "output_type": "display_data",
          "data": {
            "text/plain": [
              "<Figure size 432x288 with 1 Axes>"
            ],
            "image/png": "[encoded data removed]"
          },
          "metadata": {
            "needs_background": "light"
          }
        }
      ]
    },
    {
      "cell_type": "code",
      "source": [],
      "metadata": {
        "id": "6sjbaSPlxPgN"
      },
      "execution_count": null,
      "outputs": []
    },
    {
      "cell_type": "code",
      "source": [],
      "metadata": {
        "id": "6vIGjunXxPkQ"
      },
      "execution_count": null,
      "outputs": []
    },
    {
      "cell_type": "code",
      "source": [],
      "metadata": {
        "id": "Kvfpt5nixPmX"
      },
      "execution_count": null,
      "outputs": []
    },
    {
      "cell_type": "code",
      "source": [],
      "metadata": {
        "id": "VLNt19BjxPod"
      },
      "execution_count": null,
      "outputs": []
    }
  ]
}