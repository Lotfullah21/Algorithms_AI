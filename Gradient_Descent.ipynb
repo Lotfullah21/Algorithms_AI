{
  "nbformat": 4,
  "nbformat_minor": 0,
  "metadata": {
    "colab": {
      "provenance": [],
      "authorship_tag": "ABX9TyONXYgmxTwVSY+jamHz99NQ",
      "include_colab_link": true
    },
    "kernelspec": {
      "name": "python3",
      "display_name": "Python 3"
    },
    "language_info": {
      "name": "python"
    }
  },
  "cells": [
    {
      "cell_type": "markdown",
      "metadata": {
        "id": "view-in-github",
        "colab_type": "text"
      },
      "source": [
        "<a href=\"https://colab.research.google.com/github/Lotfullah21/Algorithms_AI/blob/main/Gradient_Descent.ipynb\" target=\"_parent\"><img src=\"https://colab.research.google.com/assets/colab-badge.svg\" alt=\"Open In Colab\"/></a>"
      ]
    },
    {
      "cell_type": "code",
      "source": [
        "import numpy as np\n",
        "import math\n",
        "import matplotlib.pyplot as plt"
      ],
      "metadata": {
        "id": "GulGPyq-dta3"
      },
      "execution_count": 1,
      "outputs": []
    },
    {
      "cell_type": "code",
      "source": [
        "def Gradient(v):\n",
        "  # y = v**2, gradient = 2*v\n",
        "  return 2*v"
      ],
      "metadata": {
        "id": "WV83d3fbdyz2"
      },
      "execution_count": 2,
      "outputs": []
    },
    {
      "cell_type": "code",
      "source": [
        "def Gradient_descent(w_init, alpha, num_iters):\n",
        "  w = w_init\n",
        "  for _ in range(num_iters):\n",
        "    w = w - alpha*Gradient(w)\n",
        "    print(\"W\",w,\"Gradient\",Gradient(w))\n",
        "  return w"
      ],
      "metadata": {
        "id": "JH9NPeizdzXM"
      },
      "execution_count": 3,
      "outputs": []
    },
    {
      "cell_type": "code",
      "source": [
        "Gradient_descent(0.4,0.3,10)"
      ],
      "metadata": {
        "colab": {
          "base_uri": "https://localhost:8080/"
        },
        "id": "hOjzz70cdzZR",
        "outputId": "f1a6ee32-b44f-4e34-a489-077f4f822c44"
      },
      "execution_count": 4,
      "outputs": [
        {
          "output_type": "stream",
          "name": "stdout",
          "text": [
            "W 0.16000000000000003 Gradient 0.32000000000000006\n",
            "W 0.06400000000000002 Gradient 0.12800000000000003\n",
            "W 0.025600000000000005 Gradient 0.05120000000000001\n",
            "W 0.010240000000000003 Gradient 0.020480000000000005\n",
            "W 0.0040960000000000015 Gradient 0.008192000000000003\n",
            "W 0.0016384000000000008 Gradient 0.0032768000000000016\n",
            "W 0.0006553600000000004 Gradient 0.001310720000000001\n",
            "W 0.0002621440000000002 Gradient 0.0005242880000000004\n",
            "W 0.00010485760000000007 Gradient 0.00020971520000000014\n",
            "W 4.194304000000003e-05 Gradient 8.388608000000006e-05\n"
          ]
        },
        {
          "output_type": "execute_result",
          "data": {
            "text/plain": [
              "4.194304000000003e-05"
            ]
          },
          "metadata": {},
          "execution_count": 4
        }
      ]
    },
    {
      "cell_type": "code",
      "source": [
        "import matplotlib.pyplot as plt"
      ],
      "metadata": {
        "id": "UG1Bfi7jpVYJ"
      },
      "execution_count": 5,
      "outputs": []
    },
    {
      "cell_type": "code",
      "source": [
        "# y = x[1]**2 + 3*x[2]**2\n",
        "def Gradient(x):\n",
        "  y = x**2 + x**2\n",
        "  Gradient = 2*x + 6*x\n",
        "  return Gradient"
      ],
      "metadata": {
        "id": "aGptCrlfjpDJ"
      },
      "execution_count": 6,
      "outputs": []
    },
    {
      "cell_type": "code",
      "source": [
        "def Gradient_descent(w_init,alpha,num_iters):\n",
        "  w_history = []\n",
        "  y_history = []\n",
        "  w = w_init\n",
        "  for _ in range(num_iters):\n",
        "    w = w - alpha * Gradient(w)\n",
        "    # y = 4 * w**3 +w**2 - 10 * w - 3\n",
        "    y = np.square(w)+6*np.square(w)  -100\n",
        "    w_history.append(w)\n",
        "    y_history.append(y)\n",
        "    print(\"Gradient\",f\"{Gradient(w):0.5e}\",\"W\",f\"{w:0.5e}\")\n",
        "  print(f\"w_history{w_history} \\n y_history {y_history}\")\n",
        "  plt.plot(w_history,y_history)\n",
        "  plt.xlabel(\"Weights\")\n",
        "  plt.ylabel(\"Function\")\n",
        "  plt.show()"
      ],
      "metadata": {
        "id": "WCqYv2Tokg3A"
      },
      "execution_count": 7,
      "outputs": []
    },
    {
      "cell_type": "code",
      "source": [
        "Gradient_descent(1.4,0.1,10)"
      ],
      "metadata": {
        "colab": {
          "base_uri": "https://localhost:8080/",
          "height": 507
        },
        "id": "DJPe2A6rdzbO",
        "outputId": "6c0181d9-880f-4b10-fae6-fda48b858972"
      },
      "execution_count": 8,
      "outputs": [
        {
          "output_type": "stream",
          "name": "stdout",
          "text": [
            "Gradient 2.24000e+00 W 2.80000e-01\n",
            "Gradient 4.48000e-01 W 5.60000e-02\n",
            "Gradient 8.96000e-02 W 1.12000e-02\n",
            "Gradient 1.79200e-02 W 2.24000e-03\n",
            "Gradient 3.58400e-03 W 4.48000e-04\n",
            "Gradient 7.16800e-04 W 8.96000e-05\n",
            "Gradient 1.43360e-04 W 1.79200e-05\n",
            "Gradient 2.86720e-05 W 3.58400e-06\n",
            "Gradient 5.73440e-06 W 7.16800e-07\n",
            "Gradient 1.14688e-06 W 1.43360e-07\n",
            "w_history[0.28, 0.055999999999999994, 0.011199999999999995, 0.002239999999999999, 0.0004479999999999996, 8.95999999999999e-05, 1.7919999999999978e-05, 3.583999999999995e-06, 7.167999999999988e-07, 1.4335999999999972e-07] \n",
            " y_history [-99.4512, -99.978048, -99.99912192, -99.9999648768, -99.999998595072, -99.99999994380288, -99.99999999775211, -99.99999999991009, -99.9999999999964, -99.99999999999986]\n"
          ]
        },
        {
          "output_type": "display_data",
          "data": {
            "text/plain": [
              "<Figure size 432x288 with 1 Axes>"
            ],
            "image/png": "[encoded data removed]"
          },
          "metadata": {
            "needs_background": "light"
          }
        }
      ]
    },
    {
      "cell_type": "code",
      "source": [
        "v = np.linspace(-3,3,10)\n",
        "y = v**2 + 3*v**2 - 100\n",
        "plt.plot(v,y)"
      ],
      "metadata": {
        "colab": {
          "base_uri": "https://localhost:8080/",
          "height": 282
        },
        "id": "6sjbaSPlxPgN",
        "outputId": "383b1f9f-8938-4556-8d56-6a740ef20980"
      },
      "execution_count": 9,
      "outputs": [
        {
          "output_type": "execute_result",
          "data": {
            "text/plain": [
              "[<matplotlib.lines.Line2D at 0x7f1e1b092f90>]"
            ]
          },
          "metadata": {},
          "execution_count": 9
        },
        {
          "output_type": "display_data",
          "data": {
            "text/plain": [
              "<Figure size 432x288 with 1 Axes>"
            ],
            "image/png": "[encoded data removed]"
          },
          "metadata": {
            "needs_background": "light"
          }
        }
      ]
    },
    {
      "cell_type": "code",
      "source": [
        "# y = x[1]**2 + 3*x[2]**2\n",
        "def Gradient(v):\n",
        "  Gradient = np.array([4*v[0]**4 , 5*v[1]**3])\n",
        "  return Gradient"
      ],
      "metadata": {
        "id": "6vIGjunXxPkQ"
      },
      "execution_count": 10,
      "outputs": []
    },
    {
      "cell_type": "code",
      "source": [],
      "metadata": {
        "id": "LnKnNJ666SQe"
      },
      "execution_count": 10,
      "outputs": []
    },
    {
      "cell_type": "code",
      "source": [
        "def Gradient(v):\n",
        "  Gradient = np.array([3*v[0]**2 ,3*v[1]**2])\n",
        "  return Gradient\n",
        "\n",
        "\n",
        "def Gradient_descent(w_init,alpha,num_iters):\n",
        "  w_history = []\n",
        "  y_history = []\n",
        "  Gradients = []\n",
        "  w = w_init\n",
        "  for _ in range(num_iters):\n",
        "    w = w - alpha * Gradient(w)\n",
        "    gradients = Gradient(w)\n",
        "    # y = x1**3 + x2**3\n",
        "    y = w[0]**3 + w[1]**3\n",
        "\n",
        "    w_history.append(w)\n",
        "    y_history.append(y)\n",
        "    Gradients.append(Gradient(w))\n",
        "    print(\"Weights\",w,\"Gradients\",Gradient(w),\"Function\",y)\n",
        "    # print(\"Weights\",w_history,\"function\",y_history,\"Gradients\",Gradients)\n",
        "  plt.plot(w_history,y_history)\n",
        "  plt.xlabel(\"Weights\")\n",
        "  plt.ylabel(\"Function\")\n",
        "  plt.show()\n",
        "Gradient_descent(np.array([.04,.03]),0.5,10)"
      ],
      "metadata": {
        "colab": {
          "base_uri": "https://localhost:8080/",
          "height": 463
        },
        "id": "OvF6WaL01E24",
        "outputId": "b3d84c85-7516-413c-a25e-2e4020fb65d3"
      },
      "execution_count": 11,
      "outputs": [
        {
          "output_type": "stream",
          "name": "stdout",
          "text": [
            "Weights [0.0376  0.02865] Gradients [0.00424128 0.00246247] Function 7.667394062500001e-05\n",
            "Weights [0.03547936 0.02741877] Gradients [0.00377635 0.00225537] Function 6.527400548593834e-05\n",
            "Weights [0.03359118 0.02629108] Gradients [0.0033851  0.00207366] Function 5.607615024865122e-05\n",
            "Weights [0.03189863 0.02525425] Gradients [0.00305257 0.00191333] Function 4.856416687948211e-05\n",
            "Weights [0.03037235 0.02429759] Gradients [0.00276744 0.00177112] Function 4.236249748284766e-05\n",
            "Weights [0.02898863 0.02341203] Gradients [0.00252102 0.00164437] Function 3.719298985981393e-05\n",
            "Weights [0.02772812 0.02258984] Gradients [0.00230655 0.0015309 ] Function 3.284633919672541e-05\n",
            "Weights [0.02657484 0.02182439] Gradients [0.00211867 0.00142891] Function 2.9162794592959087e-05\n",
            "Weights [0.02551551 0.02110993] Gradients [0.00195312 0.00133689] Function 2.6018857653317662e-05\n",
            "Weights [0.02453895 0.02044149] Gradients [0.00180648 0.00125356] Function 2.3317943629613735e-05\n"
          ]
        },
        {
          "output_type": "display_data",
          "data": {
            "text/plain": [
              "<Figure size 432x288 with 1 Axes>"
            ],
            "image/png": "[encoded data removed]"
          },
          "metadata": {
            "needs_background": "light"
          }
        }
      ]
    },
    {
      "cell_type": "markdown",
      "source": [
        "### Ordinary Least Squares\n",
        "\n",
        "for a simple linear regression we have f(x) = b0 + b1*x, we need to estimate the parameters b0 and b1 such that the difference between f(x) and y which is true label be minimum.\n",
        "we need to define the cost function which shows how much our estimates deviates from true label, (f(x1)-y1)^2/2 for one instance, and we need to calculate this for all instances.\n",
        "to find the values which minimizes the cost we need to take partial derivative of cost with respect to b0 and b1 which will show how much perturbing one of these parameters will perturb our cost function. \n",
        "Basically we will find gradient of our function which shows the direction of greatest increase, as we are interested in finding greatest decrease direction, we will move against gradient. we can get the gradient information by taking partial derivatives of the cost with respect to the respective parameters.\n",
        "we are also having a hyperparameter alpha which specifies how much shall we move against the gradient.\n"
      ],
      "metadata": {
        "id": "47XUZE0-8I5t"
      }
    },
    {
      "cell_type": "code",
      "source": [
        "def gradient(x,y,w,b):\n",
        "\n",
        "  dj_dw = 0\n",
        "  dj_db = 0\n",
        "  cost = 0\n",
        "  m = x.shape[0]\n",
        "\n",
        "  for i in range(m):\n",
        "    f_x = w*x[i] + b\n",
        "    cost =  cost + (f_x - y[i])**2 \n",
        "    dj_dw = dj_dw + (f_x - y[i]) * x[i] \n",
        "    dj_db = dj_db + (f_x - y[i])\n",
        "  dj_dw = dj_dw/m\n",
        "  dj_db = dj_db/m\n",
        "  cost = cost/2*m\n",
        "  \n",
        "  return dj_dw,dj_db,cost\n"
      ],
      "metadata": {
        "id": "cXEf1UnE4E2B"
      },
      "execution_count": 12,
      "outputs": []
    },
    {
      "cell_type": "code",
      "source": [
        "x = np.array([2,1,1,2,4])\n",
        "y = np.array([3,2,1,5,7])\n",
        "w = 0.5\n",
        "b = 1\n",
        "gradient(x,y,w,b)\n"
      ],
      "metadata": {
        "id": "cUrDDXelAC-d",
        "colab": {
          "base_uri": "https://localhost:8080/"
        },
        "outputId": "96404d12-0763-487a-93bb-de6f14f53e19"
      },
      "execution_count": 13,
      "outputs": [
        {
          "output_type": "execute_result",
          "data": {
            "text/plain": [
              "(-4.8, -1.6, 66.25)"
            ]
          },
          "metadata": {},
          "execution_count": 13
        }
      ]
    },
    {
      "cell_type": "code",
      "source": [
        "def compute_cost(x, y, w, b):\n",
        "   \n",
        "    m = x.shape[0] \n",
        "    cost = 0\n",
        "    for i in range(m):\n",
        "      f = w * x[i] + b\n",
        "      cost = cost + (f - y[i])**2\n",
        "    total_cost = cost / (2 * m) \n",
        "\n",
        "    return total_cost"
      ],
      "metadata": {
        "id": "2kDD3wOxW7x9"
      },
      "execution_count": 14,
      "outputs": []
    },
    {
      "cell_type": "code",
      "source": [
        "def Gradient_descent(x,y,w,b,alpha,num_iters):\n",
        "\n",
        "  w = w\n",
        "  b = b\n",
        "  cost_h = []\n",
        "  weights = []\n",
        "\n",
        "  for i in range(num_iters):\n",
        "\n",
        "    dj_dw, dj_db , cost = gradient(x,y,w,b)\n",
        "    w = w - alpha * dj_dw\n",
        "    b = b - alpha * dj_db\n",
        "    if i <10000:\n",
        "      cost_h.append(compute_cost(x, y, w , b))\n",
        "      weights.append([w,b])\n",
        "    if i % math.ceil(num_iters/10) ==0:\n",
        "      print(f\"Iteratio {i:0}, W {w:0.4e} ,b {b:0.4e},Cost {cost_h[-1]:0.4e}, dj_dw {dj_dw:0.4e}, dj_db {dj_db:0.4e}\")\n",
        "x = np.array([1,2,3,4])\n",
        "y = np.array([3,5,4,5])\n",
        "weight = 0.7\n",
        "Bias = 1\n",
        "alpha = 0.1\n",
        "num_iters = 1000\n",
        "Gradient_descent(x,y,w,b,alpha,num_iters)"
      ],
      "metadata": {
        "id": "JPYNzIUuAtD-",
        "colab": {
          "base_uri": "https://localhost:8080/"
        },
        "outputId": "70504d2c-dba2-4915-aa7b-9b769d1974cb"
      },
      "execution_count": 15,
      "outputs": [
        {
          "output_type": "stream",
          "name": "stdout",
          "text": [
            "Iteratio 0, W 1.0000e+00 ,b 1.2000e+00,Cost 4.9500e-01, dj_dw -5.0000e+00, dj_db -2.0000e+00\n",
            "Iteratio 100, W 6.3290e-01 ,b 2.6092e+00,Cost 2.0025e-01, dj_dw 2.0198e-02, dj_db -5.9383e-02\n",
            "Iteratio 200, W 5.2941e-01 ,b 2.9135e+00,Cost 1.8812e-01, dj_dw 4.4696e-03, dj_db -1.3141e-02\n",
            "Iteratio 300, W 5.0651e-01 ,b 2.9809e+00,Cost 1.8753e-01, dj_dw 9.8908e-04, dj_db -2.9080e-03\n",
            "Iteratio 400, W 5.0144e-01 ,b 2.9958e+00,Cost 1.8750e-01, dj_dw 2.1888e-04, dj_db -6.4353e-04\n",
            "Iteratio 500, W 5.0032e-01 ,b 2.9991e+00,Cost 1.8750e-01, dj_dw 4.8436e-05, dj_db -1.4241e-04\n",
            "Iteratio 600, W 5.0007e-01 ,b 2.9998e+00,Cost 1.8750e-01, dj_dw 1.0719e-05, dj_db -3.1514e-05\n",
            "Iteratio 700, W 5.0002e-01 ,b 3.0000e+00,Cost 1.8750e-01, dj_dw 2.3719e-06, dj_db -6.9738e-06\n",
            "Iteratio 800, W 5.0000e-01 ,b 3.0000e+00,Cost 1.8750e-01, dj_dw 5.2489e-07, dj_db -1.5432e-06\n",
            "Iteratio 900, W 5.0000e-01 ,b 3.0000e+00,Cost 1.8750e-01, dj_dw 1.1615e-07, dj_db -3.4151e-07\n"
          ]
        }
      ]
    },
    {
      "cell_type": "code",
      "source": [
        "x = np.array([5, 15, 25, 35, 45, 55])\n",
        "np.array([5, 20, 14, 32, 22, 38])\n",
        "w,b = [0.5,0.5]"
      ],
      "metadata": {
        "id": "93co-zE9WoOj"
      },
      "execution_count": 16,
      "outputs": []
    },
    {
      "cell_type": "code",
      "source": [
        "def Gradient_descent(x,y,w,b,alpha,num_iters):\n",
        "\n",
        "  w = w\n",
        "  b = b\n",
        "  cost_h = []\n",
        "  weights = []\n",
        "\n",
        "  for i in range(num_iters):\n",
        "\n",
        "    dj_dw, dj_db , cost = gradient(x,y,w,b)\n",
        "    w = w - alpha * dj_dw\n",
        "    b = b - alpha * dj_db\n",
        "    if i <10000:\n",
        "      cost_h.append(compute_cost(x, y, w , b))\n",
        "      weights.append([w,b])\n",
        "    if i % math.ceil(num_iters/10) ==0:\n",
        "      print(f\"Iteratio {i:0}, W {w:0.4e} ,b {b:0.4e},Cost {cost_h[-1]:0.4e}, dj_dw {dj_dw:0.4e}, dj_db {dj_db:0.4e}\")\n",
        "x = np.array([5, 15, 25, 35, 45, 55])\n",
        "y = np.array([5, 20, 14, 32, 22, 38])\n",
        "w,b = [0.5,0.5]\n",
        "alpha = 0.0008\n",
        "num_iters = 100_000\n",
        "Gradient_descent(x,y,w,b,alpha,num_iters)"
      ],
      "metadata": {
        "colab": {
          "base_uri": "https://localhost:8080/"
        },
        "id": "FWFl6j6s7N3O",
        "outputId": "5f8776d3-05f8-4c2b-baa8-60817cbe3064"
      },
      "execution_count": 17,
      "outputs": [
        {
          "output_type": "stream",
          "name": "stdout",
          "text": [
            "Iteratio 0, W 6.6133e-01 ,b 5.0507e-01,Cost 2.0132e+01, dj_dw -2.0167e+02, dj_db -6.3333e+00\n",
            "Iteratio 10000, W 5.5824e-01 ,b 4.9088e+00,Cost 1.6942e+01, dj_dw 4.4631e-03, dj_db -1.7725e-01\n",
            "Iteratio 20000, W 5.4258e-01 ,b 5.5310e+00,Cost 1.6942e+01, dj_dw 6.3056e-04, dj_db -2.5042e-02\n",
            "Iteratio 30000, W 5.4036e-01 ,b 5.6189e+00,Cost 1.6942e+01, dj_dw 8.9088e-05, dj_db -3.5380e-03\n",
            "Iteratio 40000, W 5.4005e-01 ,b 5.6313e+00,Cost 1.6942e+01, dj_dw 1.2587e-05, dj_db -4.9986e-04\n",
            "Iteratio 50000, W 5.4001e-01 ,b 5.6330e+00,Cost 1.6942e+01, dj_dw 1.7783e-06, dj_db -7.0622e-05\n",
            "Iteratio 60000, W 5.4000e-01 ,b 5.6333e+00,Cost 1.6942e+01, dj_dw 2.5124e-07, dj_db -9.9776e-06\n",
            "Iteratio 70000, W 5.4000e-01 ,b 5.6333e+00,Cost 1.6942e+01, dj_dw 3.5495e-08, dj_db -1.4097e-06\n",
            "Iteratio 80000, W 5.4000e-01 ,b 5.6333e+00,Cost 1.6942e+01, dj_dw 5.0149e-09, dj_db -1.9916e-07\n",
            "Iteratio 90000, W 5.4000e-01 ,b 5.6333e+00,Cost 1.6942e+01, dj_dw 7.0855e-10, dj_db -2.8138e-08\n"
          ]
        }
      ]
    },
    {
      "cell_type": "markdown",
      "source": [
        "Or we can take advantage of numpy packages and write a shorter code"
      ],
      "metadata": {
        "id": "wEauBZFE70S2"
      }
    },
    {
      "cell_type": "code",
      "source": [
        "def ms_gradient(x,y,w):\n",
        "  m = x.shape[0]\n",
        "  f_w = w[1]*x + w[0] - y\n",
        "  df_dw = f_w * x\n",
        "  df_db = f_w\n",
        "  total_dw = np.sum(df_dw)\n",
        "  total_db = np.sum(df_db)\n",
        "\n",
        "  return total_db / m, total_dw/m\n",
        "  \n",
        "x = np.array([5, 15, 25, 35, 45, 55])\n",
        "y = np.array([5, 20, 14, 32, 22, 38])\n",
        "w = [0.5,0.5]\n",
        "ms_gradient(x,y,w)"
      ],
      "metadata": {
        "colab": {
          "base_uri": "https://localhost:8080/"
        },
        "id": "20O674oZ7_V2",
        "outputId": "6272b1cd-b15a-43e3-9498-006038ebf9c4"
      },
      "execution_count": 18,
      "outputs": [
        {
          "output_type": "execute_result",
          "data": {
            "text/plain": [
              "(-6.333333333333333, -201.66666666666666)"
            ]
          },
          "metadata": {},
          "execution_count": 18
        }
      ]
    },
    {
      "cell_type": "code",
      "source": [
        "# def ms_gradient(x,y,w):\n",
        "#   m = x.shape[0]\n",
        "#   f = w[1]*x + w[0] - y\n",
        "#   return f.mean(), (f*x).mean()\n",
        "\n",
        "# x = np.array([5, 15, 25, 35, 45, 55])\n",
        "# y = np.array([5, 20, 14, 32, 22, 38])\n",
        "# w = [0.5,0.5]\n",
        "# ms_gradient(x,y,w)\n"
      ],
      "metadata": {
        "id": "tAYbdr4s_BPT"
      },
      "execution_count": 19,
      "outputs": []
    },
    {
      "cell_type": "code",
      "source": [
        "def Gradient_descent(x,y,weights,alpha,num_iters,epsilon):\n",
        "  w = weights\n",
        "  m = x.shape[0]\n",
        "\n",
        "  for i in range(num_iters):\n",
        "    grad = - alpha * np.array(ms_gradient(x,y,w))\n",
        "    if np.all(np.abs(grad)) < epsilon:\n",
        "      break\n",
        "    w = w + grad\n",
        "  return w\n",
        "\n",
        "\n",
        "x = np.array([5, 15, 25, 35, 45, 55])\n",
        "y = np.array([5, 20, 14, 32, 22, 38])\n",
        "w = [0.5,0.5]\n",
        "alpha = 0.0008\n",
        "num_iters = 100_000\n",
        "epsilon  = 1e-6\n",
        "Gradient_descent(x,y,w,alpha,num_iters,epsilon)"
      ],
      "metadata": {
        "colab": {
          "base_uri": "https://localhost:8080/"
        },
        "id": "u6BYtxxM7Z3z",
        "outputId": "e3b41eb3-2a48-4bcf-83af-ec92612d4a02"
      },
      "execution_count": 20,
      "outputs": [
        {
          "output_type": "execute_result",
          "data": {
            "text/plain": [
              "array([5.63333332, 0.54      ])"
            ]
          },
          "metadata": {},
          "execution_count": 20
        }
      ]
    },
    {
      "cell_type": "code",
      "source": [
        "def gradient(x, y, w):\n",
        "    res = w[0] + w[1] * x - y\n",
        "    return res.mean(), (res * x).mean()\n"
      ],
      "metadata": {
        "id": "kAjYDaW6Py_Q"
      },
      "execution_count": 21,
      "outputs": []
    },
    {
      "cell_type": "markdown",
      "source": [],
      "metadata": {
        "id": "grki_jEAQfaU"
      }
    },
    {
      "cell_type": "code",
      "source": [
        "import numpy as np\n",
        "def Gradient_Descent(x, y, start, alpha, num_iters, epsilon, dtype = \"float64\"):\n",
        "  \n",
        "\n",
        "  # checking if gradient is callable\n",
        "  if not callable(gradient):\n",
        "    raise TypeError(\"gradient is not callable\")\n",
        "  \n",
        "  # setting up the data type for numpy arrays\n",
        "  dtype_ = np.dtype(dtype)\n",
        "  \n",
        "  # Converting x and y to numpy arrays\n",
        "  x, y = np.array(x, dtype = dtype_), np.array(y, dtype = dtype_)\n",
        "  if x.shape[0] != y.shape[0]:\n",
        "    raise ValueError(\" 'x' and 'y' lengths do not match\")\n",
        "  \n",
        "  # initializing the values of the variable\n",
        "  init_weights = np.array(start, dtype = dtype_)\n",
        "\n",
        "  # Checking the learning rate\n",
        "  learning_rate = np.array(alpha, dtype = dtype_)\n",
        "  if np.any(learning_rate<=0):\n",
        "    raise ValueError(\"learning rate must be greate than zero\")\n",
        "  \n",
        "  # Checking number of iterations should be greater than zero\n",
        "\n",
        "  n_iter = int(num_iters)\n",
        "  if n_iter <=0:\n",
        "    raise ValueError(\"number of iteration must be greater than zero\")\n",
        "\n",
        "  # Checking for tolerance\n",
        "  tolerance = np.array(epsilon, dtype = dtype_)\n",
        "  if np.any(tolerance)<=0:\n",
        "    raise ValueError(\"tolerance must be greater than zero\")\n",
        "  \n",
        "  # Now, Gradient descent\n",
        "  for _ in range(n_iter):\n",
        "    Grad = -learning_rate * np.array(gradient(x,y,init_weights), dtype_)\n",
        "\n",
        "    if np.all(np.abs(Grad)<=tolerance):\n",
        "      break \n",
        "    \n",
        "    init_weights += Grad\n",
        "  \n",
        "  return init_weights"
      ],
      "metadata": {
        "id": "zKCfIymAGvXS"
      },
      "execution_count": 22,
      "outputs": []
    },
    {
      "cell_type": "code",
      "source": [
        "x = np.array([5, 15, 25, 35, 45, 55])\n",
        "y = np.array([5, 20, 14, 32, 22, 38])\n",
        "w = [0.5,0.5]\n",
        "alpha = 0.0008\n",
        "num_iters = 100_000\n",
        "epsilon  = 1e-6\n",
        "Gradient_Descent(x,y,w,alpha,num_iters,epsilon)"
      ],
      "metadata": {
        "id": "6ZWLkWO49pwQ",
        "colab": {
          "base_uri": "https://localhost:8080/"
        },
        "outputId": "c823e8bc-c8ef-4557-f4e5-91ac6b6366f7"
      },
      "execution_count": 23,
      "outputs": [
        {
          "output_type": "execute_result",
          "data": {
            "text/plain": [
              "array([5.62822349, 0.54012867])"
            ]
          },
          "metadata": {},
          "execution_count": 23
        }
      ]
    },
    {
      "cell_type": "markdown",
      "source": [
        "## Stochastic Gradient Descent\n",
        "as it is computationally inefficient to compute the gradients for all of the traininig instances, we can calculate the gradient only for small subset of data and make a move based on those calculations, if we combine few of those training instances into minibatches, then it would be much efficient(minibatches)"
      ],
      "metadata": {
        "id": "cfMRC9m8UWVs"
      }
    },
    {
      "cell_type": "code",
      "source": [],
      "metadata": {
        "id": "BiMA5ZnNPNbu"
      },
      "execution_count": 23,
      "outputs": []
    },
    {
      "cell_type": "code",
      "source": [
        "import numpy as np\n",
        "def sgd(x,y,start, alpha, batch_size = 1, num_iters = 50, epsilon = 1e-9, dtype = \"float64\", random_state = None):\n",
        "  if not callable(gradient):\n",
        "    raise TypeError(\"gradient must be callable\")\n",
        "\n",
        "  #  Setting up the data type for NumPy arrays\n",
        "  # dtype_ = np.array(dtype)\n",
        "  dtype_ = np.dtype(dtype)\n",
        "\n",
        "  # Converting x and y into Numpy arrays\n",
        "  x, y = np.array(x, dtype=dtype_), np.array(y, dtype=dtype_)\n",
        "  num_observations = x.shape[0]\n",
        "  if num_observations != y.shape[0]:\n",
        "    raise ValueError(\"lenghts are not the same\")\n",
        "  xy = np.c_[x.reshape(num_observations,-1),y.reshape(num_observations,1)]\n",
        "\n",
        "  # Initializing the randon number generator\n",
        "  seed = None if random_state is None else int(random_state)\n",
        "  rng = np.random.default_rng(seed=seed)\n",
        "  rand_num_generator = rng\n",
        "\n",
        "  # Initializing the weights\n",
        "  init_weights = np.array(start, dtype = dtype_)\n",
        "\n",
        "  # Checking the learning rate\n",
        "  learning_rate = np.array(alpha, dtype = dtype_)\n",
        "  if np.any(learning_rate <=0):\n",
        "    raise ValueError(\"learning rate must be >0\")\n",
        "\n",
        "  # batch_size\n",
        "  batch_size = int(batch_size)\n",
        "  if not  0 < batch_size <= num_observations:\n",
        "    raise ValueError(\"batch size must be greater than zero or less than or equal to the number of observations\")\n",
        "\n",
        "  num_iters = int(num_iters)\n",
        "  if num_iters<=0:\n",
        "    raise ValueError(\"n_iterations must be greater than zero\")\n",
        "  \n",
        "  tolerance = np.array(epsilon, dtype = dtype_)\n",
        "  if np.any(tolerance<=0):\n",
        "    raise ValueError(\"tolerance must be greater than zero\")\n",
        "  \n",
        "  # Performing the gradient descent loop\n",
        "  for _ in range(num_iters):\n",
        "    # shuffle x and y\n",
        "    rand_num_generator.shuffle(xy)\n",
        "    # performing minibatch moves\n",
        "    for start in range(0,num_observations, batch_size):\n",
        "      stop = start + batch_size\n",
        "      x_batch, y_batch = xy[start:stop,:-1], xy[start:stop,-1:]\n",
        "\n",
        "      # calculating gradient\n",
        "      grad = np.array(gradient(x_batch, y_batch,init_weights ), dtype = dtype_)\n",
        "      diff = -learning_rate * grad\n",
        "      \n",
        "      if np.all(np.abs(diff)<=tolerance):\n",
        "        break\n",
        "      \n",
        "      # update the weights\n",
        "      init_weights += diff\n",
        "  return init_weights"
      ],
      "metadata": {
        "id": "dLCbbs0mN3Cq"
      },
      "execution_count": 24,
      "outputs": []
    },
    {
      "cell_type": "code",
      "source": [
        "sgd(x, y, start=[0.5, 0.5], alpha=0.0008,batch_size=3, num_iters=100_000, random_state=0)"
      ],
      "metadata": {
        "colab": {
          "base_uri": "https://localhost:8080/"
        },
        "id": "9XuF32rhdkQA",
        "outputId": "4ea302f4-21eb-4d18-a11a-2e049c6a00eb"
      },
      "execution_count": 25,
      "outputs": [
        {
          "output_type": "execute_result",
          "data": {
            "text/plain": [
              "array([5.63093736, 0.53982921])"
            ]
          },
          "metadata": {},
          "execution_count": 25
        }
      ]
    },
    {
      "cell_type": "markdown",
      "source": [
        "## Stochastic Gradient descent with momentun \n",
        "Learning rate is one of the hyperparameters that we need to specify during training, but as we do not no the exact value of that we tend to keep them in between not to big to diverge or not to small to never ending converge.\n",
        "But if we keep track of the previous update and considering that while updating the next move is what we call **momentum.**\n",
        "\n",
        "Here,we need to specify the decay rate as well,and it shows how much contribution the previous update should have.\n"
      ],
      "metadata": {
        "id": "P1dEk4RSs4DH"
      }
    },
    {
      "cell_type": "code",
      "source": [
        "import numpy as np\n",
        "def sgd(x,y,start, alpha, decay_rate= 0 ,batch_size = 1, num_iters = 50, epsilon = 1e-9, dtype = \"float64\", random_state = None):\n",
        "  if not callable(gradient):\n",
        "    raise TypeError(\"gradient must be callable\")\n",
        "\n",
        "  #  Setting up the data type for NumPy arrays\n",
        "  # dtype_ = np.array(dtype)\n",
        "  dtype_ = np.dtype(dtype)\n",
        "\n",
        "  # Converting x and y into Numpy arrays\n",
        "  x, y = np.array(x, dtype=dtype_), np.array(y, dtype=dtype_)\n",
        "  num_observations = x.shape[0]\n",
        "  if num_observations != y.shape[0]:\n",
        "    raise ValueError(\"lenghts are not the same\")\n",
        "  xy = np.c_[x.reshape(num_observations,-1),y.reshape(num_observations,1)]\n",
        "\n",
        "  # Initializing the randon number generator\n",
        "  seed = None if random_state is None else int(random_state)\n",
        "  rng = np.random.default_rng(seed=seed)\n",
        "  rand_num_generator = rng\n",
        "\n",
        "  # Initializing the weights\n",
        "  init_weights = np.array(start, dtype = dtype_)\n",
        "\n",
        "  # Checking the learning rate\n",
        "  learning_rate = np.array(alpha, dtype = dtype_)\n",
        "  if np.any(learning_rate <=0):\n",
        "    raise ValueError(\"learning rate must be >0\")\n",
        "\n",
        "  # Setting up and checking the decay rate\n",
        "  decay_rate = np.array(decay_rate, dtype=dtype_)\n",
        "  if np.any(decay_rate < 0) or np.any(decay_rate > 1):\n",
        "    raise ValueError(\"'decay_rate' must be between zero and one\")\n",
        "\n",
        "  # batch_size\n",
        "  batch_size = int(batch_size)\n",
        "  if not  0 < batch_size <= num_observations:\n",
        "    raise ValueError(\"batch size must be greater than zero or less than or equal to the number of observations\")\n",
        "\n",
        "  num_iters = int(num_iters)\n",
        "  if num_iters<=0:\n",
        "    raise ValueError(\"n_iterations must be greater than zero\")\n",
        "  \n",
        "  tolerance = np.array(epsilon, dtype = dtype_)\n",
        "  if np.any(tolerance<=0):\n",
        "    raise ValueError(\"tolerance must be greater than zero\")\n",
        "\n",
        "  # setting up the difference to zero for the first iteration\n",
        "  diff = 0\n",
        "\n",
        "  # Performing the gradient descent loop\n",
        "  for _ in range(num_iters):\n",
        "    # shuffle x and y\n",
        "    rand_num_generator.shuffle(xy)\n",
        "    # performing minibatch moves\n",
        "    for start in range(0,num_observations, batch_size):\n",
        "      stop = start + batch_size\n",
        "      x_batch, y_batch = xy[start:stop,:-1], xy[start:stop,-1:]\n",
        "\n",
        "      # calculating gradient\n",
        "      grad = np.array(gradient(x_batch, y_batch,init_weights ), dtype = dtype_)\n",
        "      diff = decay_rate*diff-learning_rate * grad\n",
        "      # decay_rate * diff is the momentum, or impact of the previous move.\n",
        "      if np.all(np.abs(diff)<=tolerance):\n",
        "        break\n",
        "      \n",
        "      # update the weights\n",
        "      init_weights += diff\n",
        "  return init_weights"
      ],
      "metadata": {
        "id": "u9CqNVecuHXz"
      },
      "execution_count": 26,
      "outputs": []
    },
    {
      "cell_type": "code",
      "source": [
        "sgd(x, y, start=[0.5, 0.5], alpha=0.0008,decay_rate= 0,batch_size=3, num_iters=100_000, random_state=0)"
      ],
      "metadata": {
        "id": "qpi4grqRQ6VO",
        "colab": {
          "base_uri": "https://localhost:8080/"
        },
        "outputId": "9b11fc4c-282a-4100-9bb0-3ad367a76592"
      },
      "execution_count": 27,
      "outputs": [
        {
          "output_type": "execute_result",
          "data": {
            "text/plain": [
              "array([5.63093736, 0.53982921])"
            ]
          },
          "metadata": {},
          "execution_count": 27
        }
      ]
    },
    {
      "cell_type": "code",
      "source": [
        "seed =  int(34)\n",
        "rng = np.random.default_rng(seed=seed)\n",
        "print(rng)"
      ],
      "metadata": {
        "id": "Q8QMVAbjpBat",
        "colab": {
          "base_uri": "https://localhost:8080/"
        },
        "outputId": "4cf5f2dd-52d7-438e-f857-dfa4d99319e5"
      },
      "execution_count": 31,
      "outputs": [
        {
          "output_type": "stream",
          "name": "stdout",
          "text": [
            "Generator(PCG64)\n"
          ]
        }
      ]
    },
    {
      "cell_type": "code",
      "source": [],
      "metadata": {
        "id": "E9xWy4uXvjiY"
      },
      "execution_count": 31,
      "outputs": []
    }
  ]
}