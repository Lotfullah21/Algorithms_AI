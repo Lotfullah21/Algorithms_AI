{
  "nbformat": 4,
  "nbformat_minor": 0,
  "metadata": {
    "colab": {
      "provenance": [],
      "collapsed_sections": [],
      "authorship_tag": "ABX9TyNRP/C45H4TnENbIFiCAZIi",
      "include_colab_link": true
    },
    "kernelspec": {
      "name": "python3",
      "display_name": "Python 3"
    },
    "language_info": {
      "name": "python"
    }
  },
  "cells": [
    {
      "cell_type": "markdown",
      "metadata": {
        "id": "view-in-github",
        "colab_type": "text"
      },
      "source": [
        "<a href=\"https://colab.research.google.com/github/Lotfullah21/Algorithms_AI/blob/main/grad.ipynb\" target=\"_parent\"><img src=\"https://colab.research.google.com/assets/colab-badge.svg\" alt=\"Open In Colab\"/></a>"
      ]
    },
    {
      "cell_type": "code",
      "execution_count": 2,
      "metadata": {
        "id": "LGPRD04r3FSD"
      },
      "outputs": [],
      "source": [
        "import math\n",
        "import numpy as np\n",
        "import matplotlib.pyplot as plt\n"
      ]
    },
    {
      "cell_type": "code",
      "source": [
        "def f(x):\n",
        "  return 3*x**2 + 12*x\n"
      ],
      "metadata": {
        "id": "64cYM9583ws1"
      },
      "execution_count": 3,
      "outputs": []
    },
    {
      "cell_type": "code",
      "source": [
        "f(4)"
      ],
      "metadata": {
        "colab": {
          "base_uri": "https://localhost:8080/"
        },
        "id": "gcQwIag53w_e",
        "outputId": "25059731-dfbe-41ad-b7e4-dd9a26da9123"
      },
      "execution_count": 4,
      "outputs": [
        {
          "output_type": "execute_result",
          "data": {
            "text/plain": [
              "96"
            ]
          },
          "metadata": {},
          "execution_count": 4
        }
      ]
    },
    {
      "cell_type": "code",
      "source": [
        "xs = np.arange(-3,3,0.25)\n",
        "ys = f(xs)\n",
        "plt.plot(xs,ys)\n"
      ],
      "metadata": {
        "colab": {
          "base_uri": "https://localhost:8080/",
          "height": 282
        },
        "id": "92yNxubo335R",
        "outputId": "f8d4a01a-a396-4f5d-b5c0-4e80f7e15aa3"
      },
      "execution_count": 5,
      "outputs": [
        {
          "output_type": "execute_result",
          "data": {
            "text/plain": [
              "[<matplotlib.lines.Line2D at 0x7f0abe681a50>]"
            ]
          },
          "metadata": {},
          "execution_count": 5
        },
        {
          "output_type": "display_data",
          "data": {
            "text/plain": [
              "<Figure size 432x288 with 1 Axes>"
            ],
            "image/png": "[encoded data removed]"
          },
          "metadata": {
            "needs_background": "light"
          }
        }
      ]
    },
    {
      "cell_type": "code",
      "source": [
        "h = 0.000001\n",
        "x = 3\n",
        "(f(x+h)-f(x))/h"
      ],
      "metadata": {
        "colab": {
          "base_uri": "https://localhost:8080/"
        },
        "id": "oGuYx_bY34aW",
        "outputId": "3c3d0de5-2dd4-43c8-910f-fbedee5b3b45"
      },
      "execution_count": 6,
      "outputs": [
        {
          "output_type": "execute_result",
          "data": {
            "text/plain": [
              "30.000003000907327"
            ]
          },
          "metadata": {},
          "execution_count": 6
        }
      ]
    },
    {
      "cell_type": "code",
      "source": [
        "print(f(x+h),f(x))"
      ],
      "metadata": {
        "colab": {
          "base_uri": "https://localhost:8080/"
        },
        "id": "5NcAYEAC4dA5",
        "outputId": "e3aa318f-5dbf-40b8-9c8d-522153d179d3"
      },
      "execution_count": 7,
      "outputs": [
        {
          "output_type": "stream",
          "name": "stdout",
          "text": [
            "63.000030000003 63\n"
          ]
        }
      ]
    },
    {
      "cell_type": "code",
      "source": [
        "# slope\n",
        "h = 0.0000001\n",
        "x = -2 # at x = -2, the slop is zero, means going in any direction \n",
        "# the value of function won't change.\n",
        "print(f(x+h)-f(x))\n",
        "print((f(x+h)-f(x))/h)"
      ],
      "metadata": {
        "colab": {
          "base_uri": "https://localhost:8080/"
        },
        "id": "knxsGCaD4hzm",
        "outputId": "cfd8cb2d-3dca-493a-ada5-fca398a960a7"
      },
      "execution_count": 8,
      "outputs": [
        {
          "output_type": "stream",
          "name": "stdout",
          "text": [
            "3.019806626980426e-14\n",
            "3.019806626980426e-07\n"
          ]
        }
      ]
    },
    {
      "cell_type": "code",
      "source": [
        "a = -3.0\n",
        "b = 4.0\n",
        "c = 8\n",
        "d = a*b-c\n",
        "d"
      ],
      "metadata": {
        "colab": {
          "base_uri": "https://localhost:8080/"
        },
        "id": "Btabx1CR8HSk",
        "outputId": "27a36848-2308-4bb9-a146-88e91542a5c7"
      },
      "execution_count": 9,
      "outputs": [
        {
          "output_type": "execute_result",
          "data": {
            "text/plain": [
              "-20.0"
            ]
          },
          "metadata": {},
          "execution_count": 9
        }
      ]
    },
    {
      "cell_type": "code",
      "source": [
        "h = 0.00001\n",
        "# inputs\n",
        "a = -3.0\n",
        "b = 4.0\n",
        "c = 8\n",
        "d1 = a*b-c\n",
        "c = c+h\n",
        "d2 = a*b-c\n",
        "print(d1)\n",
        "print(d2)\n",
        "print(\"Slope\",(d1-d2)/h)\n"
      ],
      "metadata": {
        "colab": {
          "base_uri": "https://localhost:8080/"
        },
        "id": "UBXmkyU58R0A",
        "outputId": "1ec38fe0-f3e0-46d3-d037-9b121de2873c"
      },
      "execution_count": 10,
      "outputs": [
        {
          "output_type": "stream",
          "name": "stdout",
          "text": [
            "-20.0\n",
            "-20.00001\n",
            "Slope 0.9999999999621422\n"
          ]
        }
      ]
    },
    {
      "cell_type": "markdown",
      "source": [
        " Neural Networks are consist of pretty massive expressions, we need to \n",
        " create data structures to maintain these expressions."
      ],
      "metadata": {
        "id": "_i7ZANWW_seP"
      }
    },
    {
      "cell_type": "code",
      "source": [
        "class Value:\n",
        "  def __init__(self,data,_children=(), _op =\" \",label =\" \"):\n",
        "    self.data = data\n",
        "    self.grad = 0.0\n",
        "    self._prev = set(_children)\n",
        "    self._op = _op\n",
        "    self.label = label\n",
        "  # repr providing us a nicer looking output\n",
        "  def __repr__(self):\n",
        "    return f\"value(data = {self.data} ))\"\n",
        "  def __add__(self,other):\n",
        "    out = Value(self.data + other.data,(self,other),\"+\")\n",
        "    return out\n",
        "  def __mul__(self,other):\n",
        "    out = Value(self.data * other.data,(self,other),\"*\")\n",
        "    return out\n",
        "\n",
        "a = Value(4,label = \"a\")\n",
        "b = Value(-3, label =\"b\")\n",
        "c = Value(4, label = \"c\")\n",
        "d = a+b; d.label = \"d\"\n",
        "# a.__add__(b)\n",
        "print(\"a+b\",a+b)\n",
        "# a.__mul__(c)\n",
        "print(\"a*c\",a*c)\n",
        "# (a.__mul__(b)).__add__(c)\n",
        "print(\"a*b+c\",a*b+c)\n",
        "m = a+b*c; m.label = \"m\""
      ],
      "metadata": {
        "colab": {
          "base_uri": "https://localhost:8080/"
        },
        "id": "RJL1okKx_s6y",
        "outputId": "93badd4c-614d-44c7-9f01-e22d5f3e60d1"
      },
      "execution_count": 120,
      "outputs": [
        {
          "output_type": "stream",
          "name": "stdout",
          "text": [
            "a+b value(data = 1 ))\n",
            "a*c value(data = 16 ))\n",
            "a*b+c value(data = -8 ))\n"
          ]
        }
      ]
    },
    {
      "cell_type": "code",
      "source": [
        "a = Value(4,label = \"a\")\n",
        "b = Value(-3, label =\"b\")\n",
        "c = Value(4, label =\"c\")\n",
        "d = a+b; d.label = \"d\"\n",
        "m = d*c; m.label = \"m\"\n",
        "g = Value(-2,label = \"g\")\n",
        "y = g*m; y.label = \"y\"\n",
        "\n",
        "y.grad = 1.0 # the base case"
      ],
      "metadata": {
        "id": "ETJR2tRAWo1O"
      },
      "execution_count": 148,
      "outputs": []
    },
    {
      "cell_type": "code",
      "source": [
        "# Computing derivatives\n",
        "\n",
        "dy_dy = 1 # the base case\n",
        "\n",
        "y = m * g; y.label = \"y\"\n",
        "y.grad = 1.0\n",
        "dy_dm = g.data\n",
        "dy_dg = m.data\n",
        "g.grad = dy_dg\n",
        "m.grad = dy_dm\n",
        "\n",
        "\n",
        "m = c * d; m.label=\"m\"\n",
        "dm_dc = d.data * dy_dm\n",
        "dm_dd = c.data * dy_dm\n",
        "c.grad = dm_dc\n",
        "d.grad = dm_dd\n",
        "\n",
        "\n",
        "d = a + b; d.label =\"d\"\n",
        "dd_db = dm_dd * 1\n",
        "dd_da = dm_dd * 1\n",
        "a.grad = dd_da \n",
        "b.grad = dd_db"
      ],
      "metadata": {
        "id": "VKiTXiOnBsV6"
      },
      "execution_count": 149,
      "outputs": []
    },
    {
      "cell_type": "code",
      "source": [
        "# gradient shows the direction of stepest decrease,so we will move in the direction of gradient to increase value of y\n",
        "d.data += -5*d.grad\n",
        "m.data -= 61*m.grad\n",
        "\n",
        "\n",
        "m = d*c\n",
        "y = g*m\n",
        "print(y)\n"
      ],
      "metadata": {
        "colab": {
          "base_uri": "https://localhost:8080/"
        },
        "id": "MuGR6DtZDt_h",
        "outputId": "c087056f-fb3f-488c-e2ad-2aaaca6d7a1f"
      },
      "execution_count": 162,
      "outputs": [
        {
          "output_type": "stream",
          "name": "stdout",
          "text": [
            "value(data = 96.0 ))\n"
          ]
        }
      ]
    },
    {
      "cell_type": "code",
      "source": [
        "from graphviz import Digraph\n",
        "\n",
        "def trace(root):\n",
        "  # builds a set of all nodes and edges in a graph\n",
        "  nodes, edges = set(), set()\n",
        "  def build(v):\n",
        "    if v not in nodes:\n",
        "      nodes.add(v)\n",
        "      for child in v._prev:\n",
        "        edges.add((child, v))\n",
        "        build(child)\n",
        "  build(root)\n",
        "  return nodes, edges\n",
        "\n",
        "def draw_dot(root):\n",
        "  dot = Digraph(format='svg', graph_attr={'rankdir': 'LR'}) # LR = left to right\n",
        "  \n",
        "  nodes, edges = trace(root)\n",
        "  for n in nodes:\n",
        "    uid = str(id(n))\n",
        "    # for any value in the graph, create a rectangular ('record') node for it\n",
        "    dot.node(name = uid, label = \"{ %s | data %.4f | grad %.4f }\" % (n.label, n.data, n.grad), shape='record')\n",
        "    if n._op:\n",
        "      # if this value is a result of some operation, create an op node for it\n",
        "      dot.node(name = uid + n._op, label = n._op)\n",
        "      # and connect this node to it\n",
        "      dot.edge(uid + n._op, uid)\n",
        "\n",
        "  for n1, n2 in edges:\n",
        "    # connect n1 to the op node of n2\n",
        "    dot.edge(str(id(n1)), str(id(n2)) + n2._op)\n",
        "\n",
        "  return dot\n",
        "\n",
        "draw_dot(y)"
      ],
      "metadata": {
        "id": "COy0humFLpvH",
        "colab": {
          "base_uri": "https://localhost:8080/",
          "height": 247
        },
        "outputId": "2c321929-ee2d-4477-c0e0-46bffbc136fd"
      },
      "execution_count": 144,
      "outputs": [
        {
          "output_type": "execute_result",
          "data": {
            "text/plain": [
              "<graphviz.dot.Digraph at 0x7f0ab565d9d0>"
            ],
            "image/svg+xml": "<?xml version=\"1.0\" encoding=\"UTF-8\" standalone=\"no\"?>\n<!DOCTYPE svg PUBLIC \"-//W3C//DTD SVG 1.1//EN\"\n \"http://www.w3.org/Graphics/SVG/1.1/DTD/svg11.dtd\">\n<!-- Generated by graphviz version 2.40.1 (20161225.0304)\n -->\n<!-- Title: %3 Pages: 1 -->\n<svg width=\"1287pt\" height=\"154pt\"\n viewBox=\"0.00 0.00 1287.00 154.00\" xmlns=\"http://www.w3.org/2000/svg\" xmlns:xlink=\"http://www.w3.org/1999/xlink\">\n<g id=\"graph0\" class=\"graph\" transform=\"scale(1 1) rotate(0) translate(4 150)\">\n<title>%3</title>\n<polygon fill=\"#ffffff\" stroke=\"transparent\" points=\"-4,4 -4,-150 1283,-150 1283,4 -4,4\"/>\n<!-- 139683969754128 -->\n<g id=\"node1\" class=\"node\">\n<title>139683969754128</title>\n<polygon fill=\"none\" stroke=\"#000000\" points=\"90,-.5 90,-36.5 295,-36.5 295,-.5 90,-.5\"/>\n<text text-anchor=\"middle\" x=\"102\" y=\"-14.8\" font-family=\"Times,serif\" font-size=\"14.00\" fill=\"#000000\">b</text>\n<polyline fill=\"none\" stroke=\"#000000\" points=\"114,-.5 114,-36.5 \"/>\n<text text-anchor=\"middle\" x=\"158.5\" y=\"-14.8\" font-family=\"Times,serif\" font-size=\"14.00\" fill=\"#000000\">data &#45;3.0000</text>\n<polyline fill=\"none\" stroke=\"#000000\" points=\"203,-.5 203,-36.5 \"/>\n<text text-anchor=\"middle\" x=\"249\" y=\"-14.8\" font-family=\"Times,serif\" font-size=\"14.00\" fill=\"#000000\">grad &#45;8.0000</text>\n</g>\n<!-- 139683969756304+ -->\n<g id=\"node8\" class=\"node\">\n<title>139683969756304+</title>\n<ellipse fill=\"none\" stroke=\"#000000\" cx=\"358\" cy=\"-45.5\" rx=\"27\" ry=\"18\"/>\n<text text-anchor=\"middle\" x=\"358\" y=\"-41.8\" font-family=\"Times,serif\" font-size=\"14.00\" fill=\"#000000\">+</text>\n</g>\n<!-- 139683969754128&#45;&gt;139683969756304+ -->\n<g id=\"edge10\" class=\"edge\">\n<title>139683969754128&#45;&gt;139683969756304+</title>\n<path fill=\"none\" stroke=\"#000000\" d=\"M295.4315,-35.2925C304.6641,-36.7987 313.5398,-38.2467 321.5595,-39.555\"/>\n<polygon fill=\"#000000\" stroke=\"#000000\" points=\"321.1342,-43.0318 331.5673,-41.1877 322.2613,-36.1232 321.1342,-43.0318\"/>\n</g>\n<!-- 139683969754128  -->\n<g id=\"node2\" class=\"node\">\n<title>139683969754128 </title>\n<ellipse fill=\"none\" stroke=\"#000000\" cx=\"27\" cy=\"-18.5\" rx=\"27\" ry=\"18\"/>\n<text text-anchor=\"middle\" x=\"27\" y=\"-14.8\" font-family=\"Times,serif\" font-size=\"14.00\" fill=\"#000000\"> </text>\n</g>\n<!-- 139683969754128 &#45;&gt;139683969754128 -->\n<g id=\"edge1\" class=\"edge\">\n<title>139683969754128 &#45;&gt;139683969754128</title>\n<path fill=\"none\" stroke=\"#000000\" d=\"M54.329,-18.5C61.8129,-18.5 70.4161,-18.5 79.5926,-18.5\"/>\n<polygon fill=\"#000000\" stroke=\"#000000\" points=\"79.7491,-22.0001 89.7491,-18.5 79.7491,-15.0001 79.7491,-22.0001\"/>\n</g>\n<!-- 139683969754640 -->\n<g id=\"node3\" class=\"node\">\n<title>139683969754640</title>\n<polygon fill=\"none\" stroke=\"#000000\" points=\"92.5,-55.5 92.5,-91.5 292.5,-91.5 292.5,-55.5 92.5,-55.5\"/>\n<text text-anchor=\"middle\" x=\"104\" y=\"-69.8\" font-family=\"Times,serif\" font-size=\"14.00\" fill=\"#000000\">a</text>\n<polyline fill=\"none\" stroke=\"#000000\" points=\"115.5,-55.5 115.5,-91.5 \"/>\n<text text-anchor=\"middle\" x=\"158\" y=\"-69.8\" font-family=\"Times,serif\" font-size=\"14.00\" fill=\"#000000\">data 4.0000</text>\n<polyline fill=\"none\" stroke=\"#000000\" points=\"200.5,-55.5 200.5,-91.5 \"/>\n<text text-anchor=\"middle\" x=\"246.5\" y=\"-69.8\" font-family=\"Times,serif\" font-size=\"14.00\" fill=\"#000000\">grad &#45;8.0000</text>\n</g>\n<!-- 139683969754640&#45;&gt;139683969756304+ -->\n<g id=\"edge11\" class=\"edge\">\n<title>139683969754640&#45;&gt;139683969756304+</title>\n<path fill=\"none\" stroke=\"#000000\" d=\"M292.59,-56.5663C302.9627,-54.8115 312.9547,-53.1209 321.8741,-51.6119\"/>\n<polygon fill=\"#000000\" stroke=\"#000000\" points=\"322.5343,-55.0501 331.8103,-49.9309 321.3665,-48.1481 322.5343,-55.0501\"/>\n</g>\n<!-- 139683969754640  -->\n<g id=\"node4\" class=\"node\">\n<title>139683969754640 </title>\n<ellipse fill=\"none\" stroke=\"#000000\" cx=\"27\" cy=\"-73.5\" rx=\"27\" ry=\"18\"/>\n<text text-anchor=\"middle\" x=\"27\" y=\"-69.8\" font-family=\"Times,serif\" font-size=\"14.00\" fill=\"#000000\"> </text>\n</g>\n<!-- 139683969754640 &#45;&gt;139683969754640 -->\n<g id=\"edge2\" class=\"edge\">\n<title>139683969754640 &#45;&gt;139683969754640</title>\n<path fill=\"none\" stroke=\"#000000\" d=\"M54.329,-73.5C62.4541,-73.5 71.8986,-73.5 81.9636,-73.5\"/>\n<polygon fill=\"#000000\" stroke=\"#000000\" points=\"82.2096,-77.0001 92.2095,-73.5 82.2095,-70.0001 82.2096,-77.0001\"/>\n</g>\n<!-- 139683969754064 -->\n<g id=\"node5\" class=\"node\">\n<title>139683969754064</title>\n<polygon fill=\"none\" stroke=\"#000000\" points=\"421.5,-82.5 421.5,-118.5 621.5,-118.5 621.5,-82.5 421.5,-82.5\"/>\n<text text-anchor=\"middle\" x=\"433\" y=\"-96.8\" font-family=\"Times,serif\" font-size=\"14.00\" fill=\"#000000\">c</text>\n<polyline fill=\"none\" stroke=\"#000000\" points=\"444.5,-82.5 444.5,-118.5 \"/>\n<text text-anchor=\"middle\" x=\"487\" y=\"-96.8\" font-family=\"Times,serif\" font-size=\"14.00\" fill=\"#000000\">data 4.0000</text>\n<polyline fill=\"none\" stroke=\"#000000\" points=\"529.5,-82.5 529.5,-118.5 \"/>\n<text text-anchor=\"middle\" x=\"575.5\" y=\"-96.8\" font-family=\"Times,serif\" font-size=\"14.00\" fill=\"#000000\">grad &#45;2.0000</text>\n</g>\n<!-- 139683970061008* -->\n<g id=\"node10\" class=\"node\">\n<title>139683970061008*</title>\n<ellipse fill=\"none\" stroke=\"#000000\" cx=\"685\" cy=\"-72.5\" rx=\"27\" ry=\"18\"/>\n<text text-anchor=\"middle\" x=\"685\" y=\"-68.8\" font-family=\"Times,serif\" font-size=\"14.00\" fill=\"#000000\">*</text>\n</g>\n<!-- 139683969754064&#45;&gt;139683970061008* -->\n<g id=\"edge13\" class=\"edge\">\n<title>139683969754064&#45;&gt;139683970061008*</title>\n<path fill=\"none\" stroke=\"#000000\" d=\"M621.7866,-83.3255C631.361,-81.6859 640.5772,-80.1076 648.8718,-78.6871\"/>\n<polygon fill=\"#000000\" stroke=\"#000000\" points=\"649.5771,-82.1173 658.8428,-76.9795 648.3955,-75.2178 649.5771,-82.1173\"/>\n</g>\n<!-- 139683969754064  -->\n<g id=\"node6\" class=\"node\">\n<title>139683969754064 </title>\n<ellipse fill=\"none\" stroke=\"#000000\" cx=\"358\" cy=\"-100.5\" rx=\"27\" ry=\"18\"/>\n<text text-anchor=\"middle\" x=\"358\" y=\"-96.8\" font-family=\"Times,serif\" font-size=\"14.00\" fill=\"#000000\"> </text>\n</g>\n<!-- 139683969754064 &#45;&gt;139683969754064 -->\n<g id=\"edge3\" class=\"edge\">\n<title>139683969754064 &#45;&gt;139683969754064</title>\n<path fill=\"none\" stroke=\"#000000\" d=\"M385.3662,-100.5C393.0578,-100.5 401.9249,-100.5 411.3689,-100.5\"/>\n<polygon fill=\"#000000\" stroke=\"#000000\" points=\"411.3944,-104.0001 421.3944,-100.5 411.3943,-97.0001 411.3944,-104.0001\"/>\n</g>\n<!-- 139683969756304 -->\n<g id=\"node7\" class=\"node\">\n<title>139683969756304</title>\n<polygon fill=\"none\" stroke=\"#000000\" points=\"421,-27.5 421,-63.5 622,-63.5 622,-27.5 421,-27.5\"/>\n<text text-anchor=\"middle\" x=\"433\" y=\"-41.8\" font-family=\"Times,serif\" font-size=\"14.00\" fill=\"#000000\">d</text>\n<polyline fill=\"none\" stroke=\"#000000\" points=\"445,-27.5 445,-63.5 \"/>\n<text text-anchor=\"middle\" x=\"487.5\" y=\"-41.8\" font-family=\"Times,serif\" font-size=\"14.00\" fill=\"#000000\">data 1.0000</text>\n<polyline fill=\"none\" stroke=\"#000000\" points=\"530,-27.5 530,-63.5 \"/>\n<text text-anchor=\"middle\" x=\"576\" y=\"-41.8\" font-family=\"Times,serif\" font-size=\"14.00\" fill=\"#000000\">grad &#45;8.0000</text>\n</g>\n<!-- 139683969756304&#45;&gt;139683970061008* -->\n<g id=\"edge8\" class=\"edge\">\n<title>139683969756304&#45;&gt;139683970061008*</title>\n<path fill=\"none\" stroke=\"#000000\" d=\"M622.2542,-62.1383C631.5755,-63.6776 640.5479,-65.1593 648.6492,-66.4971\"/>\n<polygon fill=\"#000000\" stroke=\"#000000\" points=\"648.3169,-69.9896 658.7536,-68.1657 649.4575,-63.0831 648.3169,-69.9896\"/>\n</g>\n<!-- 139683969756304+&#45;&gt;139683969756304 -->\n<g id=\"edge4\" class=\"edge\">\n<title>139683969756304+&#45;&gt;139683969756304</title>\n<path fill=\"none\" stroke=\"#000000\" d=\"M385.3662,-45.5C392.8433,-45.5 401.4313,-45.5 410.5802,-45.5\"/>\n<polygon fill=\"#000000\" stroke=\"#000000\" points=\"410.702,-49.0001 420.702,-45.5 410.7019,-42.0001 410.702,-49.0001\"/>\n</g>\n<!-- 139683970061008 -->\n<g id=\"node9\" class=\"node\">\n<title>139683970061008</title>\n<polygon fill=\"none\" stroke=\"#000000\" points=\"748,-54.5 748,-90.5 953,-90.5 953,-54.5 748,-54.5\"/>\n<text text-anchor=\"middle\" x=\"762\" y=\"-68.8\" font-family=\"Times,serif\" font-size=\"14.00\" fill=\"#000000\">m</text>\n<polyline fill=\"none\" stroke=\"#000000\" points=\"776,-54.5 776,-90.5 \"/>\n<text text-anchor=\"middle\" x=\"818.5\" y=\"-68.8\" font-family=\"Times,serif\" font-size=\"14.00\" fill=\"#000000\">data 4.0000</text>\n<polyline fill=\"none\" stroke=\"#000000\" points=\"861,-54.5 861,-90.5 \"/>\n<text text-anchor=\"middle\" x=\"907\" y=\"-68.8\" font-family=\"Times,serif\" font-size=\"14.00\" fill=\"#000000\">grad &#45;2.0000</text>\n</g>\n<!-- 139683969501648* -->\n<g id=\"node14\" class=\"node\">\n<title>139683969501648*</title>\n<ellipse fill=\"none\" stroke=\"#000000\" cx=\"1016\" cy=\"-99.5\" rx=\"27\" ry=\"18\"/>\n<text text-anchor=\"middle\" x=\"1016\" y=\"-95.8\" font-family=\"Times,serif\" font-size=\"14.00\" fill=\"#000000\">*</text>\n</g>\n<!-- 139683970061008&#45;&gt;139683969501648* -->\n<g id=\"edge12\" class=\"edge\">\n<title>139683970061008&#45;&gt;139683969501648*</title>\n<path fill=\"none\" stroke=\"#000000\" d=\"M953.4315,-89.2925C962.6641,-90.7987 971.5398,-92.2467 979.5595,-93.555\"/>\n<polygon fill=\"#000000\" stroke=\"#000000\" points=\"979.1342,-97.0318 989.5673,-95.1877 980.2613,-90.1232 979.1342,-97.0318\"/>\n</g>\n<!-- 139683970061008*&#45;&gt;139683970061008 -->\n<g id=\"edge5\" class=\"edge\">\n<title>139683970061008*&#45;&gt;139683970061008</title>\n<path fill=\"none\" stroke=\"#000000\" d=\"M712.329,-72.5C719.8129,-72.5 728.4161,-72.5 737.5926,-72.5\"/>\n<polygon fill=\"#000000\" stroke=\"#000000\" points=\"737.7491,-76.0001 747.7491,-72.5 737.7491,-69.0001 737.7491,-76.0001\"/>\n</g>\n<!-- 139683969754384 -->\n<g id=\"node11\" class=\"node\">\n<title>139683969754384</title>\n<polygon fill=\"none\" stroke=\"#000000\" points=\"750.5,-109.5 750.5,-145.5 950.5,-145.5 950.5,-109.5 750.5,-109.5\"/>\n<text text-anchor=\"middle\" x=\"762.5\" y=\"-123.8\" font-family=\"Times,serif\" font-size=\"14.00\" fill=\"#000000\">g</text>\n<polyline fill=\"none\" stroke=\"#000000\" points=\"774.5,-109.5 774.5,-145.5 \"/>\n<text text-anchor=\"middle\" x=\"819\" y=\"-123.8\" font-family=\"Times,serif\" font-size=\"14.00\" fill=\"#000000\">data &#45;2.0000</text>\n<polyline fill=\"none\" stroke=\"#000000\" points=\"863.5,-109.5 863.5,-145.5 \"/>\n<text text-anchor=\"middle\" x=\"907\" y=\"-123.8\" font-family=\"Times,serif\" font-size=\"14.00\" fill=\"#000000\">grad 4.0000</text>\n</g>\n<!-- 139683969754384&#45;&gt;139683969501648* -->\n<g id=\"edge9\" class=\"edge\">\n<title>139683969754384&#45;&gt;139683969501648*</title>\n<path fill=\"none\" stroke=\"#000000\" d=\"M950.59,-110.5663C960.9627,-108.8115 970.9547,-107.1209 979.8741,-105.6119\"/>\n<polygon fill=\"#000000\" stroke=\"#000000\" points=\"980.5343,-109.0501 989.8103,-103.9309 979.3665,-102.1481 980.5343,-109.0501\"/>\n</g>\n<!-- 139683969754384  -->\n<g id=\"node12\" class=\"node\">\n<title>139683969754384 </title>\n<ellipse fill=\"none\" stroke=\"#000000\" cx=\"685\" cy=\"-127.5\" rx=\"27\" ry=\"18\"/>\n<text text-anchor=\"middle\" x=\"685\" y=\"-123.8\" font-family=\"Times,serif\" font-size=\"14.00\" fill=\"#000000\"> </text>\n</g>\n<!-- 139683969754384 &#45;&gt;139683969754384 -->\n<g id=\"edge6\" class=\"edge\">\n<title>139683969754384 &#45;&gt;139683969754384</title>\n<path fill=\"none\" stroke=\"#000000\" d=\"M712.329,-127.5C720.4541,-127.5 729.8986,-127.5 739.9636,-127.5\"/>\n<polygon fill=\"#000000\" stroke=\"#000000\" points=\"740.2096,-131.0001 750.2095,-127.5 740.2095,-124.0001 740.2096,-131.0001\"/>\n</g>\n<!-- 139683969501648 -->\n<g id=\"node13\" class=\"node\">\n<title>139683969501648</title>\n<polygon fill=\"none\" stroke=\"#000000\" points=\"1079,-81.5 1079,-117.5 1279,-117.5 1279,-81.5 1079,-81.5\"/>\n<text text-anchor=\"middle\" x=\"1091\" y=\"-95.8\" font-family=\"Times,serif\" font-size=\"14.00\" fill=\"#000000\">y</text>\n<polyline fill=\"none\" stroke=\"#000000\" points=\"1103,-81.5 1103,-117.5 \"/>\n<text text-anchor=\"middle\" x=\"1147.5\" y=\"-95.8\" font-family=\"Times,serif\" font-size=\"14.00\" fill=\"#000000\">data &#45;8.0000</text>\n<polyline fill=\"none\" stroke=\"#000000\" points=\"1192,-81.5 1192,-117.5 \"/>\n<text text-anchor=\"middle\" x=\"1235.5\" y=\"-95.8\" font-family=\"Times,serif\" font-size=\"14.00\" fill=\"#000000\">grad 1.0000</text>\n</g>\n<!-- 139683969501648*&#45;&gt;139683969501648 -->\n<g id=\"edge7\" class=\"edge\">\n<title>139683969501648*&#45;&gt;139683969501648</title>\n<path fill=\"none\" stroke=\"#000000\" d=\"M1043.2825,-99.5C1050.8033,-99.5 1059.4515,-99.5 1068.6639,-99.5\"/>\n<polygon fill=\"#000000\" stroke=\"#000000\" points=\"1068.8552,-103.0001 1078.8552,-99.5 1068.8552,-96.0001 1068.8552,-103.0001\"/>\n</g>\n</g>\n</svg>\n"
          },
          "metadata": {},
          "execution_count": 144
        }
      ]
    },
    {
      "cell_type": "code",
      "source": [
        "# Computing derivatives\n",
        "\n",
        "dy_dy = 1 # the base case\n",
        "\n",
        "y = m * g; y.label = \"y\"\n",
        "y.grad = 1.0\n",
        "dy_dm = g.data\n",
        "dy_dg = m.data\n",
        "g.grad = dy_dg\n",
        "m.grad = dy_dm\n",
        "\n",
        "\n",
        "m = c * d; m.label=\"m\"\n",
        "dm_dc = d.data * dy_dm\n",
        "dm_dd = c.data * dy_dm\n",
        "c.grad = dm_dc\n",
        "d.grad = dm_dd\n",
        "\n",
        "\n",
        "d = a + b; d.label =\"d\"\n",
        "dd_db = dm_dd * 1\n",
        "dd_da = dm_dd * 1\n",
        "a.grad = dd_da \n",
        "b.grad = dd_db"
      ],
      "metadata": {
        "id": "q9eZKnPHUyoG"
      },
      "execution_count": 131,
      "outputs": []
    },
    {
      "cell_type": "code",
      "source": [
        "def Slope():\n",
        "  h = 0.0001\n",
        "  a = Value(4,label = \"a\")\n",
        "  b = Value(-3, label =\"b\")\n",
        "  c = Value(4, label = \"c\")\n",
        "  d = a+b; d.label = \"d\"\n",
        "  m = d*c; m.label = \"m\"\n",
        "  g = Value(4,label = \"g\")\n",
        "  x = g*m\n",
        "  x1 = x.data\n",
        "\n",
        "\n",
        "  a = Value(4,label = \"a\")\n",
        "  b = Value(-3, label =\"b\")\n",
        "  c = Value(4, label = \"c\")\n",
        "  d = a+b; d.label = \"d\"\n",
        "  m = d*c; m.label = \"m\"\n",
        "  g = Value(4+h,label = \"g\")\n",
        "  x = g*m\n",
        "  x2 = x.data  # this is the base case, the slope will be with respect to itself\n",
        "  return (x2-x1)/h\n",
        "Slope()"
      ],
      "metadata": {
        "colab": {
          "base_uri": "https://localhost:8080/"
        },
        "id": "UQBXRctMwdYn",
        "outputId": "3fb8a2f9-c43d-40b6-df79-8d7ae22f4b03"
      },
      "execution_count": 130,
      "outputs": [
        {
          "output_type": "execute_result",
          "data": {
            "text/plain": [
              "3.9999999999906777"
            ]
          },
          "metadata": {},
          "execution_count": 130
        }
      ]
    },
    {
      "cell_type": "code",
      "source": [
        "def slope():\n",
        "  h = 0.000001\n",
        "  a = Value(4,label = \"a\")\n",
        "  b = Value(-3, label =\"b\")\n",
        "  c = Value(4, label = \"c\")\n",
        "  d = a+b; d.label = \"d\"\n",
        "  m = d*c; m.label = \"m\"\n",
        "  g = Value(-2,label = \"g\")\n",
        "  x = g*m\n",
        "  x1 = x.data\n",
        "\n",
        "\n",
        "  a = Value(4,label = \"a\")\n",
        "  b = Value(-3, label =\"b\")\n",
        "  c = Value(4, label = \"c\")\n",
        "  d = a+b; d.label = \"d\"\n",
        "  m = d*c; m.label = \"m\"\n",
        "  m.data  = m.data + h\n",
        "  g = Value(-2,label = \"g\")\n",
        "  x = g*m\n",
        "  x2 = x.data  \n",
        "  return (x2-x1)/h\n",
        "slope()"
      ],
      "metadata": {
        "colab": {
          "base_uri": "https://localhost:8080/"
        },
        "id": "zhAhHdlrxe61",
        "outputId": "45cfba8c-73dc-4c18-de15-ebaf86ea8cef"
      },
      "execution_count": 142,
      "outputs": [
        {
          "output_type": "execute_result",
          "data": {
            "text/plain": [
              "-2.000000000279556"
            ]
          },
          "metadata": {},
          "execution_count": 142
        }
      ]
    },
    {
      "cell_type": "code",
      "source": [],
      "metadata": {
        "id": "Pj3ZTwsyyeZ9"
      },
      "execution_count": null,
      "outputs": []
    }
  ]
}