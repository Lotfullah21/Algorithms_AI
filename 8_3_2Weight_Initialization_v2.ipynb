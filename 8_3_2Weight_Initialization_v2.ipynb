{
  "cells": [
    {
      "cell_type": "markdown",
      "metadata": {
        "id": "view-in-github",
        "colab_type": "text"
      },
      "source": [
        "<a href=\"https://colab.research.google.com/github/Lotfullah21/Algorithms_AI/blob/main/8_3_2Weight_Initialization_v2.ipynb\" target=\"_parent\"><img src=\"https://colab.research.google.com/assets/colab-badge.svg\" alt=\"Open In Colab\"/></a>"
      ]
    },
    {
      "cell_type": "markdown",
      "metadata": {
        "id": "WDikujtQsD1_"
      },
      "source": [
        "We'll need the following libraries:\n"
      ]
    },
    {
      "cell_type": "code",
      "execution_count": 75,
      "metadata": {
        "colab": {
          "base_uri": "https://localhost:8080/"
        },
        "id": "9TmBFozAsD2A",
        "outputId": "6ccd9fd5-b02a-4b83-a449-bd7840d1a3ff"
      },
      "outputs": [
        {
          "output_type": "execute_result",
          "data": {
            "text/plain": [
              "<torch._C.Generator at 0x7f4b9395e2f0>"
            ]
          },
          "metadata": {},
          "execution_count": 75
        }
      ],
      "source": [
        "# Import the libraries we need to use in this lab\n",
        "\n",
        "# Using the following line code to install the torchvision library\n",
        "# !mamba install -y torchvision\n",
        "\n",
        "import torch \n",
        "import torch.nn as nn\n",
        "import torchvision.transforms as transforms\n",
        "import torchvision.datasets as dsets\n",
        "import matplotlib.pylab as plt\n",
        "import numpy as np\n",
        "\n",
        "torch.manual_seed(0)"
      ]
    },
    {
      "cell_type": "code",
      "source": [
        "import torch \n",
        "import torch.nn as nn\n",
        "import torchvision.transforms as transforms\n",
        "import torchvision.datasets as dsets\n",
        "import matplotlib.pyplot as plt\n",
        "import numpy as np\n",
        "torch.manual_seed(0)"
      ],
      "metadata": {
        "colab": {
          "base_uri": "https://localhost:8080/"
        },
        "id": "zjWZuxNytrSK",
        "outputId": "812f2798-01d5-4a52-ee47-84035cc90f4f"
      },
      "execution_count": 76,
      "outputs": [
        {
          "output_type": "execute_result",
          "data": {
            "text/plain": [
              "<torch._C.Generator at 0x7f4b9395e2f0>"
            ]
          },
          "metadata": {},
          "execution_count": 76
        }
      ]
    },
    {
      "cell_type": "markdown",
      "source": [
        "### 1. Defining the neural network\n",
        "#### 2. xavier initialization\n"
      ],
      "metadata": {
        "id": "YoN-U6mptrnS"
      }
    },
    {
      "cell_type": "code",
      "source": [
        "class Xavier_Network(nn.Module):\n",
        "\n",
        "  def __init__(self, Layers):\n",
        "    super(Xavier_Network, self).__init__()\n",
        "    self.hidden = nn.ModuleList()\n",
        "\n",
        "    for input, output in zip(Layers,Layers[1:]):\n",
        "      linear = nn.Linear(input,output)\n",
        "      torch.nn.init.xavier_uniform_(linear.weight)\n",
        "      self.hidden.append(linear)\n",
        "  \n",
        "  def forward(self,x):\n",
        "    L = len(self.hidden)\n",
        "    for (l, linear_transform) in zip(range(L),self.hidden):\n",
        "      if l < L-1:\n",
        "        x = torch.tanh(linear_transform(x))\n",
        "      else:\n",
        "        x = linear_transform(x)\n",
        "    return x\n"
      ],
      "metadata": {
        "id": "aKfv6tCAtn2L"
      },
      "execution_count": 77,
      "outputs": []
    },
    {
      "cell_type": "markdown",
      "source": [
        "#### 2. uniform initialization\n"
      ],
      "metadata": {
        "id": "f4Aw7k5Rtoae"
      }
    },
    {
      "cell_type": "code",
      "source": [
        "# Define the neural network with Uniform initialization\n",
        "class Uniform_Network(nn.Module):\n",
        "    \n",
        "    # Constructor\n",
        "    def __init__(self, Layers):\n",
        "        super(Uniform_Network, self).__init__()\n",
        "        self.hidden = nn.ModuleList()\n",
        "\n",
        "        for input_size, output_size in zip(Layers, Layers[1:]):\n",
        "            linear = nn.Linear(input_size, output_size)\n",
        "            linear.weight.data.uniform_(0, 1)\n",
        "            self.hidden.append(linear)\n",
        "    \n",
        "    # Prediction\n",
        "    def forward(self, x):\n",
        "        L = len(self.hidden)\n",
        "        for (l, linear_transform) in zip(range(L), self.hidden):\n",
        "            if l < L - 1:\n",
        "                x = torch.tanh(linear_transform(x))\n",
        "            else:\n",
        "                x = linear_transform(x)\n",
        "        return x"
      ],
      "metadata": {
        "id": "AFH2lMFUtoxn"
      },
      "execution_count": 78,
      "outputs": []
    },
    {
      "cell_type": "markdown",
      "source": [
        "#### 4. default initialization"
      ],
      "metadata": {
        "id": "DZYlDmH3to33"
      }
    },
    {
      "cell_type": "code",
      "source": [
        "# Define the neural network with Default initialization\n",
        "\n",
        "class Network(nn.Module):\n",
        "    \n",
        "    # Constructor\n",
        "    def __init__(self, Layers):\n",
        "        super(Network, self).__init__()\n",
        "        self.hidden = nn.ModuleList()\n",
        "\n",
        "        for input_size, output_size in zip(Layers, Layers[1:]):\n",
        "            linear = nn.Linear(input_size, output_size)\n",
        "            self.hidden.append(linear)\n",
        "    \n",
        "    # Prediction\n",
        "    def forward(self, x):\n",
        "        L = len(self.hidden)\n",
        "        for (l, linear_transform) in zip(range(L), self.hidden):\n",
        "            if l < L - 1:\n",
        "                x = torch.tanh(linear_transform(x))\n",
        "            else:\n",
        "                x = linear_transform(x)\n",
        "        return x"
      ],
      "metadata": {
        "id": "uzW8ow15to-g"
      },
      "execution_count": 79,
      "outputs": []
    },
    {
      "cell_type": "markdown",
      "source": [
        "### 3. Define training function"
      ],
      "metadata": {
        "id": "yCypoIirtpD-"
      }
    },
    {
      "cell_type": "code",
      "source": [
        "def train_model(model, criterion, train_loader, validation_loader, optimizer, epochs=200):\n",
        "  i = 0\n",
        "  loss_data = {'training_loss':[], 'validation_accuracy':[]}\n",
        "  \n",
        "  for epoch in range(epochs):\n",
        "    for i,(x,y) in enumerate(train_loader):\n",
        "      optimizer.zero_grad()\n",
        "      z = model(x.view(-1,28*28))\n",
        "      Loss = criterion(z,y)\n",
        "      Loss.backward()\n",
        "      optimizer.step()\n",
        "      loss_data['training_loss'].append(Loss.data.item())\n",
        "    \n",
        "    correct = 0\n",
        "    for x,y in validation_loader:\n",
        "      y_hat = model(x.view(-1,28*28))\n",
        "      ran, label = torch.max(y_hat, 1)\n",
        "      correct = correct + (label == y ).sum().item()\n",
        "    accuracy = 100*(correct/ len(validation_dataset))\n",
        "    loss_data['validation_accuracy'].append(accuracy)\n",
        "\n",
        "  return loss_data"
      ],
      "metadata": {
        "id": "I16ByGAuxi5i"
      },
      "execution_count": 80,
      "outputs": []
    },
    {
      "cell_type": "markdown",
      "source": [
        "### 4. Create train and validation dataset"
      ],
      "metadata": {
        "id": "HSaE5gFZ0Hon"
      }
    },
    {
      "cell_type": "code",
      "source": [
        "training_dataset = dsets.MNIST(root = './data', train = True, download = True, transform = transforms.ToTensor())\n",
        "validation_dataset = dsets.MNIST(root = './data', train = False, download = True, transform = transforms.ToTensor())"
      ],
      "metadata": {
        "id": "zlUuo4C7tpKY"
      },
      "execution_count": 81,
      "outputs": []
    },
    {
      "cell_type": "markdown",
      "source": [
        "### 5. Create train and validation data loader"
      ],
      "metadata": {
        "id": "h-MbdtHp06ax"
      }
    },
    {
      "cell_type": "code",
      "source": [
        "train_loader = torch.utils.data.DataLoader(dataset=train_dataset, batch_size=2000, shuffle=True)\n",
        "validation_loader = torch.utils.data.DataLoader(dataset=validation_dataset, batch_size=4000, shuffle=False)"
      ],
      "metadata": {
        "id": "mloii5494CWC"
      },
      "execution_count": 82,
      "outputs": []
    },
    {
      "cell_type": "markdown",
      "source": [
        "### 5. Defining the loss function and layers"
      ],
      "metadata": {
        "id": "JWn9lIkg1rWv"
      }
    },
    {
      "cell_type": "code",
      "source": [
        "criterion = nn.CrossEntropyLoss()\n",
        "input_dim  = 28*28\n",
        "output_dim = 15\n",
        "layers = [input_dim, 100, 10, 100, 10, 100,output_dim]\n",
        "epochs = 15"
      ],
      "metadata": {
        "id": "Qn4YzL_x1zan"
      },
      "execution_count": 83,
      "outputs": []
    },
    {
      "cell_type": "markdown",
      "source": [
        "### 6. Training the model"
      ],
      "metadata": {
        "id": "M09WaidVtpVz"
      }
    },
    {
      "cell_type": "code",
      "source": [
        "model = Network(layers)\n",
        "learning_rate = 0.01\n",
        "optimizer = torch.optim.SGD(model.parameters(), lr = learning_rate)\n",
        "training_results = train_model(model, criterion, train_loader, validation_loader, optimizer, epochs = epochs)"
      ],
      "metadata": {
        "id": "V1xgOVl82hSr"
      },
      "execution_count": 84,
      "outputs": []
    },
    {
      "cell_type": "code",
      "source": [
        "# Train the model with Xavier initialization\n",
        "\n",
        "Xavier_model = Xavier_Network(layers)\n",
        "optimizer = torch.optim.SGD(Xavier_model.parameters(), lr=learning_rate)\n",
        "training_results_Xavier = train_model(Xavier_model, criterion, train_loader, validation_loader, optimizer, epochs=epochs)"
      ],
      "metadata": {
        "id": "07Ce3H415_kQ"
      },
      "execution_count": 85,
      "outputs": []
    },
    {
      "cell_type": "code",
      "source": [
        "# Train the model with Uniform initialization\n",
        "\n",
        "Uniform_model = Uniform_Network(layers)\n",
        "optimizer = torch.optim.SGD(Uniform_model.parameters(), lr=learning_rate)\n",
        "training_results_Uniform = train_model(Uniform_model, criterion, train_loader, validation_loader, optimizer, epochs=epochs)"
      ],
      "metadata": {
        "id": "EEDWfnyc5_rR"
      },
      "execution_count": 86,
      "outputs": []
    },
    {
      "cell_type": "markdown",
      "source": [],
      "metadata": {
        "id": "SJuHbKvMtph_"
      }
    },
    {
      "cell_type": "code",
      "source": [
        "# Plot the loss of all models\n",
        "\n",
        "plt.plot(training_results_Xavier['training_loss'], label='Xavier')\n",
        "plt.plot(training_results['training_loss'], label='Default')\n",
        "plt.plot(training_results_Uniform['training_loss'], label='Uniform')\n",
        "plt.ylabel('loss')\n",
        "plt.xlabel('iteration ')  \n",
        "plt.title('training loss iterations')\n",
        "plt.legend()"
      ],
      "metadata": {
        "colab": {
          "base_uri": "https://localhost:8080/",
          "height": 312
        },
        "id": "XVxeHlTXtpnh",
        "outputId": "702eabb7-fad0-477d-a540-511dfcd2f229"
      },
      "execution_count": 87,
      "outputs": [
        {
          "output_type": "execute_result",
          "data": {
            "text/plain": [
              "<matplotlib.legend.Legend at 0x7f4b8501edd0>"
            ]
          },
          "metadata": {},
          "execution_count": 87
        },
        {
          "output_type": "display_data",
          "data": {
            "text/plain": [
              "<Figure size 432x288 with 1 Axes>"
            ],
            "image/png": "[encoded data removed]"
          },
          "metadata": {
            "needs_background": "light"
          }
        }
      ]
    },
    {
      "cell_type": "code",
      "source": [
        "# Plot the accuracy of all models\n",
        "# vali\n",
        "\n",
        "plt.plot(training_results_Xavier['validation_accuracy'], label='Xavier')\n",
        "plt.plot(training_results['validation_accuracy'], label='Default')\n",
        "plt.plot(training_results_Uniform['validation_accuracy'], label='Uniform') \n",
        "plt.ylabel('validation accuracy')\n",
        "plt.xlabel('epochs')   \n",
        "plt.legend()"
      ],
      "metadata": {
        "colab": {
          "base_uri": "https://localhost:8080/",
          "height": 296
        },
        "id": "l6TKknil6iE_",
        "outputId": "665569bf-c3d6-4feb-b759-d80d9781b19f"
      },
      "execution_count": 88,
      "outputs": [
        {
          "output_type": "execute_result",
          "data": {
            "text/plain": [
              "<matplotlib.legend.Legend at 0x7f4b85071650>"
            ]
          },
          "metadata": {},
          "execution_count": 88
        },
        {
          "output_type": "display_data",
          "data": {
            "text/plain": [
              "<Figure size 432x288 with 1 Axes>"
            ],
            "image/png": "[encoded data removed]"
          },
          "metadata": {
            "needs_background": "light"
          }
        }
      ]
    },
    {
      "cell_type": "markdown",
      "source": [],
      "metadata": {
        "id": "wi3l_aPjtptX"
      }
    },
    {
      "cell_type": "markdown",
      "metadata": {
        "id": "2CjSTJ0UsD2C"
      },
      "source": [
        "<!--Empty Space for separating topics-->\n"
      ]
    }
  ],
  "metadata": {
    "kernelspec": {
      "display_name": "Python 3",
      "language": "python",
      "name": "python3"
    },
    "language_info": {
      "codemirror_mode": {
        "name": "ipython",
        "version": 3
      },
      "file_extension": ".py",
      "mimetype": "text/x-python",
      "name": "python",
      "nbconvert_exporter": "python",
      "pygments_lexer": "ipython3",
      "version": "3.7.6"
    },
    "colab": {
      "provenance": [],
      "include_colab_link": true
    }
  },
  "nbformat": 4,
  "nbformat_minor": 0
}