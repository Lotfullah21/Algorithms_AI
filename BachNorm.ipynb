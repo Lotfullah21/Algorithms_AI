{
  "cells": [
    {
      "cell_type": "markdown",
      "metadata": {
        "id": "view-in-github",
        "colab_type": "text"
      },
      "source": [
        "<a href=\"https://colab.research.google.com/github/Lotfullah21/Algorithms_AI/blob/main/BachNorm.ipynb\" target=\"_parent\"><img src=\"https://colab.research.google.com/assets/colab-badge.svg\" alt=\"Open In Colab\"/></a>"
      ]
    },
    {
      "cell_type": "markdown",
      "metadata": {
        "id": "7a4azFS1PFaX"
      },
      "source": [
        "<p style=\"text-align:center\">\n",
        "    <a href=\"https://skills.network/?utm_medium=Exinfluencer&utm_source=Exinfluencer&utm_content=000026UJ&utm_term=10006555&utm_id=NA-SkillsNetwork-Channel-SkillsNetworkCoursesIBMDeveloperSkillsNetworkDL0110ENSkillsNetwork20647811-2022-01-01\" target=\"_blank\">\n",
        "    <img src=\"https://cf-courses-data.s3.us.cloud-object-storage.appdomain.cloud/assets/logos/SN_web_lightmode.png\" width=\"200\" alt=\"Skills Network Logo\"  />\n",
        "    </a>\n",
        "</p>\n"
      ]
    },
    {
      "cell_type": "markdown",
      "metadata": {
        "id": "V27k40OHPFaf"
      },
      "source": [
        "<h3>Objective for this Notebook<h3>    \n",
        "<h5> 1. Define Several Neural Networks, Criterion function, Optimizer.</h5>\n",
        "<h5> 2. Train Neural Network using Batch Normalization and no Batch Normalization </h5>   \n"
      ]
    },
    {
      "cell_type": "markdown",
      "metadata": {
        "id": "HXRHVuW5PFai"
      },
      "source": [
        "<h2>Preparation</h2>\n"
      ]
    },
    {
      "cell_type": "markdown",
      "metadata": {
        "id": "Yyyk-aC7PFaj"
      },
      "source": [
        "We'll need the following libraries:\n"
      ]
    },
    {
      "cell_type": "code",
      "execution_count": 72,
      "metadata": {
        "colab": {
          "base_uri": "https://localhost:8080/"
        },
        "id": "YZpkEDRQPFaj",
        "outputId": "feb0e893-994c-49fb-cd58-15e285b48456"
      },
      "outputs": [
        {
          "output_type": "execute_result",
          "data": {
            "text/plain": [
              "<torch._C.Generator at 0x7f99c3067d30>"
            ]
          },
          "metadata": {},
          "execution_count": 72
        }
      ],
      "source": [
        "# These are the libraries will be used for this lab.\n",
        "\n",
        "# Using the following line code to install the torchvision library\n",
        "# !mamba install -y torchvision\n",
        "\n",
        "import torch \n",
        "import torch.nn as nn\n",
        "import torchvision.transforms as transforms\n",
        "import torchvision.datasets as dsets\n",
        "import torch.nn.functional as F\n",
        "import matplotlib.pylab as plt\n",
        "import numpy as np\n",
        "torch.manual_seed(0)"
      ]
    },
    {
      "cell_type": "code",
      "source": [],
      "metadata": {
        "id": "4ve3xhvrdtKe"
      },
      "execution_count": 72,
      "outputs": []
    },
    {
      "cell_type": "markdown",
      "source": [
        "### 1.a Network class with batch normalization technique"
      ],
      "metadata": {
        "id": "2RfqEOTgPJRH"
      }
    },
    {
      "cell_type": "code",
      "source": [
        "# Define the Neural Network Model using Batch Normalization\n",
        "\n",
        "class BatchNorm(nn.Module):\n",
        "    \n",
        "    # Constructor\n",
        "    def __init__(self, in_size, n_hidden1, n_hidden2, out_size):\n",
        "        super(BatchNorm, self).__init__()\n",
        "        self.linear1 = nn.Linear(in_size, n_hidden1)\n",
        "        self.linear2 = nn.Linear(n_hidden1, n_hidden2)\n",
        "        self.linear3 = nn.Linear(n_hidden2, out_size)\n",
        "        self.bn1 = nn.BatchNorm1d(n_hidden1)\n",
        "        self.bn2 = nn.BatchNorm1d(n_hidden2)\n",
        "\n",
        " # Prediction\n",
        "    def forward(self, x):\n",
        "        x = self.bn1(torch.sigmoid(self.linear1(x)))\n",
        "        x = self.bn2(torch.sigmoid(self.linear2(x)))\n",
        "        x = self.linear3(x)\n",
        "        return x\n",
        "       \n",
        "        \n",
        "    # # Prediction\n",
        "    # def forward(self, x):\n",
        "    #     x = self.linear1(x)\n",
        "    #     x = torch.sigmoid(x)\n",
        "    #     x = self.bn1(x)\n",
        "    #     x = self.linear2(x)\n",
        "    #     x = torch.sigmoid(x)\n",
        "    #     x = self.bn2(x)\n",
        "    #     return x\n",
        "    \n",
        "    # Activations, to analyze results \n",
        "    def activation(self, x):\n",
        "        out = []\n",
        "        z1 = self.bn1(self.linear1(x))\n",
        "        out.append(z1.detach().numpy().reshape(-1))\n",
        "        a1 = torch.sigmoid(z1)\n",
        "        out.append(a1.detach().numpy().reshape(-1).reshape(-1))\n",
        "        z2 = self.bn2(self.linear2(a1))\n",
        "        out.append(z2.detach().numpy().reshape(-1))\n",
        "        a2 = torch.sigmoid(z2)\n",
        "        out.append(a2.detach().numpy().reshape(-1))\n",
        "        return out"
      ],
      "metadata": {
        "id": "RAyMj3y-d7w2"
      },
      "execution_count": 116,
      "outputs": []
    },
    {
      "cell_type": "markdown",
      "source": [
        "### 1.b\n",
        "\n",
        " Network class without batch norm"
      ],
      "metadata": {
        "id": "BJZX1-DVPJex"
      }
    },
    {
      "cell_type": "code",
      "source": [
        "class Network(nn.Module):\n",
        "  def __init__(self, in_dim, n_hidden1, n_hidden2, out_dim):\n",
        "    super(Network,self).__init__()\n",
        "    self.linear1 = nn.Linear(in_dim, n_hidden1)\n",
        "    self.linear2 = nn.Linear(n_hidden1, n_hidden2)\n",
        "    self.linear3 = nn.Linear(n_hidden2, out_dim)     \n",
        "    # Prediction\n",
        "\n",
        "\n",
        "  def forward(self, x):\n",
        "    x = self.linear1(x)\n",
        "    x = torch.sigmoid(x)\n",
        "    x = self.linear2(x)\n",
        "    x = torch.sigmoid(x)\n",
        "    x = self.linear3(x)\n",
        "    return x\n",
        "  \n",
        "  def activation(self, x):\n",
        "    out = []\n",
        "    z1 = self.linear1(x)\n",
        "    out.append(z1.detach().numpy().reshape(-1))\n",
        "    a1 = torch.sigmoid(z1)\n",
        "    out.append(a1.detach().numpy().reshape(-1).reshape(-1))\n",
        "    z2 = self.linear2(a1)\n",
        "    out.append(z2.detach().numpy().reshape(-1))\n",
        "    a2 = torch.sigmoid(z2)\n",
        "    out.append(a2.detach().numpy().reshape(-1))\n",
        "    return out"
      ],
      "metadata": {
        "id": "rEU4andPPJ5R"
      },
      "execution_count": 117,
      "outputs": []
    },
    {
      "cell_type": "markdown",
      "source": [
        "### 2. define the training funciton"
      ],
      "metadata": {
        "id": "i1RzdnmyPJ-b"
      }
    },
    {
      "cell_type": "code",
      "source": [
        "# Define the function to train model\n",
        "\n",
        "def train(model, criterion, train_loader, validation_loader, optimizer, epochs=100):\n",
        "    i = 0\n",
        "    useful_stuff = {'training_loss':[], 'validation_accuracy':[]}  \n",
        "\n",
        "    for epoch in range(epochs):\n",
        "        for i, (x, y) in enumerate(train_loader):\n",
        "            model.train()\n",
        "            optimizer.zero_grad()\n",
        "            z = model(x.view(-1, 28 * 28))\n",
        "            loss = criterion(z, y)\n",
        "            loss.backward()\n",
        "            optimizer.step()\n",
        "            useful_stuff['training_loss'].append(loss.data.item())\n",
        "            \n",
        "        correct = 0\n",
        "        for x, y in validation_loader:\n",
        "            model.eval()\n",
        "            yhat = model(x.view(-1, 28 * 28))\n",
        "            _, label = torch.max(yhat, 1)\n",
        "            correct += (label == y).sum().item()\n",
        "            \n",
        "        accuracy = 100 * (correct / len(validation_dataset))\n",
        "        useful_stuff['validation_accuracy'].append(accuracy)\n",
        "    \n",
        "    return useful_stuff"
      ],
      "metadata": {
        "id": "g2DLrJY_V1jW"
      },
      "execution_count": 118,
      "outputs": []
    },
    {
      "cell_type": "markdown",
      "source": [
        "### 3. Making the dataset for training and validation"
      ],
      "metadata": {
        "id": "uP7iLRTYPKNe"
      }
    },
    {
      "cell_type": "code",
      "source": [
        "training_dataset = dsets.MNIST(root = './data', train = True, download = True, transform = transforms.ToTensor())\n",
        "validation_dataset = dsets.MNIST(root = './data', train = False, download = True, transform = transforms.ToTensor())"
      ],
      "metadata": {
        "id": "q1F0MOxzWWMZ"
      },
      "execution_count": 119,
      "outputs": []
    },
    {
      "cell_type": "markdown",
      "source": [
        "### 3.1. creating dataloader and validation loader"
      ],
      "metadata": {
        "id": "Yp3qTt1EXCpS"
      }
    },
    {
      "cell_type": "code",
      "source": [
        "train_loader = torch.utils.data.DataLoader(dataset = training_dataset, batch_size = 3000, shuffle = True)\n",
        "validation_loader = torch.utils.data.DataLoader(dataset = validation_dataset, batch_size = 2000, shuffle = False)"
      ],
      "metadata": {
        "id": "TSPoaTgxXK8S"
      },
      "execution_count": 120,
      "outputs": []
    },
    {
      "cell_type": "markdown",
      "source": [
        "### 4. Defining the loss and setting the hyper parameters of the network\n"
      ],
      "metadata": {
        "id": "qdqrrYlOX2h6"
      }
    },
    {
      "cell_type": "code",
      "source": [
        "loss = nn.CrossEntropyLoss()\n",
        "in_dim = 28*28\n",
        "n_hidden1 = 100\n",
        "n_hidden2 = 100\n",
        "out_dim = 10"
      ],
      "metadata": {
        "id": "XnBD6hWmYBqU"
      },
      "execution_count": 121,
      "outputs": []
    },
    {
      "cell_type": "markdown",
      "source": [
        "### 5. Training the model"
      ],
      "metadata": {
        "id": "G6VCT4qDYkxc"
      }
    },
    {
      "cell_type": "code",
      "source": [
        "# Create model, optimizer and train the model\n",
        "\n",
        "model_norm  = BatchNorm(in_dim, n_hidden1, n_hidden1, out_dim)\n",
        "optimizer = torch.optim.Adam(model_norm.parameters(), lr = 0.1)\n",
        "training_results_Norm=train(model_norm , loss, train_loader, validation_loader, optimizer, epochs=5)"
      ],
      "metadata": {
        "id": "I304F3bpYBta"
      },
      "execution_count": 122,
      "outputs": []
    },
    {
      "cell_type": "code",
      "source": [
        "# Create model without Batch Normalization, optimizer and train the model\n",
        "\n",
        "model = Network(in_dim, n_hidden1, n_hidden2, out_dim)\n",
        "optimizer = torch.optim.Adam(model.parameters(), lr = 0.1)\n",
        "training_results = train(model, loss, train_loader, validation_loader, optimizer, epochs=5)"
      ],
      "metadata": {
        "id": "w3SawuPpY2ii"
      },
      "execution_count": 123,
      "outputs": []
    },
    {
      "cell_type": "markdown",
      "source": [
        "### 6. Analyzing the results"
      ],
      "metadata": {
        "id": "q7t_VMqBPKXf"
      }
    },
    {
      "cell_type": "code",
      "source": [
        "model.eval()\n",
        "model_norm.eval()\n",
        "out=model.activation(validation_dataset[0][0].reshape(-1,28*28))\n",
        "plt.hist(out[2],label='model with no batch normalization' )\n",
        "out_norm=model_norm.activation(validation_dataset[0][0].reshape(-1,28*28))\n",
        "plt.hist(out_norm[2],label='model with normalization')\n",
        "plt.xlabel(\"activation \")\n",
        "plt.legend()\n",
        "plt.show()"
      ],
      "metadata": {
        "colab": {
          "base_uri": "https://localhost:8080/",
          "height": 279
        },
        "id": "iBMyov7VPKdb",
        "outputId": "7ccb3f6c-98de-444f-ef70-1e478633d5a0"
      },
      "execution_count": 124,
      "outputs": [
        {
          "output_type": "display_data",
          "data": {
            "text/plain": [
              "<Figure size 432x288 with 1 Axes>"
            ],
            "image/png": "[encoded data removed]"
          },
          "metadata": {
            "needs_background": "light"
          }
        }
      ]
    },
    {
      "cell_type": "markdown",
      "source": [],
      "metadata": {
        "id": "4C802zCiPKi7"
      }
    },
    {
      "cell_type": "code",
      "source": [
        "# Plot the diagram to show the loss\n",
        "\n",
        "plt.plot(training_results['training_loss'], label='No Batch Normalization')\n",
        "plt.plot(training_results_Norm['training_loss'], label='Batch Normalization')\n",
        "plt.ylabel('Cost')\n",
        "plt.xlabel('iterations ')   \n",
        "plt.legend()\n",
        "plt.show()"
      ],
      "metadata": {
        "colab": {
          "base_uri": "https://localhost:8080/",
          "height": 279
        },
        "id": "_DL2-Tq-PKoa",
        "outputId": "d6331946-9b18-4ff0-cb56-fed7a73b0398"
      },
      "execution_count": 125,
      "outputs": [
        {
          "output_type": "display_data",
          "data": {
            "text/plain": [
              "<Figure size 432x288 with 1 Axes>"
            ],
            "image/png": "[encoded data removed]"
          },
          "metadata": {
            "needs_background": "light"
          }
        }
      ]
    },
    {
      "cell_type": "markdown",
      "source": [],
      "metadata": {
        "id": "aBl-eNSJPKtz"
      }
    },
    {
      "cell_type": "code",
      "source": [
        "# Plot the diagram to show the accuracy\n",
        "\n",
        "plt.plot(training_results['validation_accuracy'],label='No Batch Normalization')\n",
        "plt.plot(training_results_Norm['validation_accuracy'],label='Batch Normalization')\n",
        "plt.ylabel('validation accuracy')\n",
        "plt.xlabel('epochs ')   \n",
        "plt.legend()\n",
        "plt.show()"
      ],
      "metadata": {
        "colab": {
          "base_uri": "https://localhost:8080/",
          "height": 279
        },
        "id": "55kgcJwyPKy1",
        "outputId": "9d76aedb-b587-474e-c545-670b29c52a52"
      },
      "execution_count": 126,
      "outputs": [
        {
          "output_type": "display_data",
          "data": {
            "text/plain": [
              "<Figure size 432x288 with 1 Axes>"
            ],
            "image/png": "[encoded data removed]"
          },
          "metadata": {
            "needs_background": "light"
          }
        }
      ]
    },
    {
      "cell_type": "markdown",
      "metadata": {
        "id": "6V62jDL2PFam"
      },
      "source": [
        "<!--Empty Space for separating topics-->\n"
      ]
    }
  ],
  "metadata": {
    "kernelspec": {
      "display_name": "Python 3",
      "language": "python",
      "name": "python3"
    },
    "language_info": {
      "codemirror_mode": {
        "name": "ipython",
        "version": 3
      },
      "file_extension": ".py",
      "mimetype": "text/x-python",
      "name": "python",
      "nbconvert_exporter": "python",
      "pygments_lexer": "ipython3",
      "version": "3.7.6"
    },
    "colab": {
      "provenance": [],
      "include_colab_link": true
    }
  },
  "nbformat": 4,
  "nbformat_minor": 0
}